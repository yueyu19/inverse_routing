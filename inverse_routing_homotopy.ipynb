{
 "cells": [
  {
   "cell_type": "markdown",
   "id": "8eaad1e9",
   "metadata": {},
   "source": [
    "#### ROUTING GAME LIBRARY"
   ]
  },
  {
   "cell_type": "code",
   "execution_count": 1,
   "id": "11c08082",
   "metadata": {},
   "outputs": [
    {
     "data": {
      "text/plain": [
       "plot_labeled (generic function with 1 method)"
      ]
     },
     "metadata": {},
     "output_type": "display_data"
    }
   ],
   "source": [
    "include(\"routing_games.jl\")\n",
    "# calling by\n",
    "# game_name, g, p, E, s, x̂ = grid_graph3_4_players()\n",
    "# game_name, g, p, E, E_diag, s_reduced, x̂ = grid_graph3_4_players_reduced()"
   ]
  },
  {
   "cell_type": "markdown",
   "id": "b6fd12bd-fdca-4048-a698-15c66b64f794",
   "metadata": {
    "tags": []
   },
   "source": [
    "#### FORWARD SOLVER: game(p,E,s, b, C) ==> (x, v)"
   ]
  },
  {
   "cell_type": "code",
   "execution_count": 4,
   "id": "6f853d2e-d7d0-40f1-9f06-b9e51cf825d3",
   "metadata": {},
   "outputs": [
    {
     "data": {
      "text/plain": [
       "solve_entropy_routing (generic function with 1 method)"
      ]
     },
     "metadata": {},
     "output_type": "display_data"
    }
   ],
   "source": [
    "# include(\"entropy_routing_solver_nlsolve.jl\")\n",
    "include(\"entropy_routing_solver_jump.jl\")\n",
    "\n",
    "\n",
    "# calling by:\n",
    "# x, v = solve_entropy_routing(pa(), 0.01, x_init, v_init)"
   ]
  },
  {
   "cell_type": "markdown",
   "id": "aecb9da5",
   "metadata": {},
   "source": [
    "##### test forward solver"
   ]
  },
  {
   "cell_type": "code",
   "execution_count": 5,
   "id": "0ecd57e2",
   "metadata": {},
   "outputs": [
    {
     "name": "stdout",
     "output_type": "stream",
     "text": [
      "termination_status(model) = MathOptInterface.LOCALLY_SOLVED\n",
      "objective_value(model) = 8.337551380099879e-10\n"
     ]
    },
    {
     "data": {
      "text/plain": [
       "(x = [0.004070134479679048, 4.615888001746012e-6, 4.61485967443117e-6, 0.00407013203925852, 1.7268792845090377e-5, 4.613413598877201e-6, 0.004070130926003878, 0.004070136323011619, 0.9918735322149397, 0.004070136323011619  …  0.004070132039258521, 1.7268792845090356e-5, 4.614859674431169e-6, 0.004070134479679048, 4.615888001746012e-6, 0.9918735322149398, 0.004070136323011619, 0.004070136323011619, 0.004070134479679048, 4.61588800174601e-6], v = [0.1648775979217019, 0.10991839370875185, 0.054959195486795426, 0.21983680666355349, 0.10991840333780936, 0.1648775979217019, 0.10991839370875185, 0.054959195486795426, 0.05495919547237904, 0.1099183936862324  …  0.054959195486795426, 0.054959195486795426, 0.054959195486795426, 0.054959195486795426, 0.10991839370875185, 0.10991840333780936, 0.10991839370875185, 0.1648775979217019, 0.21983680666355349, 0.1648775979217019])"
      ]
     },
     "metadata": {},
     "output_type": "display_data"
    }
   ],
   "source": [
    "game_name, g, p, E, E_diag, s_reduced, x̂ = grid_graph3_4_players_reduced()\n",
    "n, m = size(E)\n",
    "b = 0.1*ones(p*m)\n",
    "C = zeros(p*m, p*m)\n",
    "\n",
    "x_init = rand(p*m)\n",
    "v_init = zeros(p*(n-1))\n",
    "\n",
    "# create parameters block and solve for x\n",
    "function pa()\n",
    "    pa_p = p\n",
    "    pa_E = E\n",
    "    pa_E_diag = E_diag\n",
    "    pa_n, pa_m = n, m\n",
    "    pa_s_reduced = s_reduced\n",
    "    pa_b = b\n",
    "    pa_C = C\n",
    "    (; p=pa_p, E=pa_E, E_diag=pa_E_diag, n=pa_n, m=pa_m, s_reduced=pa_s_reduced, b=pa_b, C=pa_C)\n",
    "end\n",
    "x, v = solve_entropy_routing(pa(), 0.01, x_init, v_init)"
   ]
  },
  {
   "cell_type": "markdown",
   "id": "d4614d1a-9e58-470f-9994-335da303a78b",
   "metadata": {},
   "source": [
    "#### BACKWARD SOLVER: (p,E,s, x_hat) ==> (b, C)"
   ]
  },
  {
   "cell_type": "code",
   "execution_count": 6,
   "id": "99c1c5d4",
   "metadata": {},
   "outputs": [
    {
     "data": {
      "text/plain": [
       "approx_proj_grad"
      ]
     },
     "metadata": {},
     "output_type": "display_data"
    }
   ],
   "source": [
    "include(\"approx_proj_gradient.jl\")\n",
    "# calling by:\n",
    "# x, b, C, ψ_vals, violation_metrics, lambda_vals, v, ∇̂ψ_C_norm, D_norm, J_norm, pinv_J_norm, F_norm = approx_proj_grad(p, E_diag, E, s_reduced, x̂, λ, α, ϵ, ρ, max_iter, x, b, C)"
   ]
  },
  {
   "cell_type": "markdown",
   "id": "ea7f0928",
   "metadata": {},
   "source": [
    "##### test backward solver"
   ]
  },
  {
   "cell_type": "code",
   "execution_count": 7,
   "id": "7a8817f7",
   "metadata": {},
   "outputs": [
    {
     "name": "stdout",
     "output_type": "stream",
     "text": [
      "----------- grid_graph3_4_players_reduced_λ=(0.01)_α=(0.005)_ϵ=(0.001)_ρ=(0.5) -----------\n"
     ]
    },
    {
     "name": "stdout",
     "output_type": "stream",
     "text": [
      "Starting approx proj grad...\n"
     ]
    },
    {
     "name": "stdout",
     "output_type": "stream",
     "text": [
      "termination_status(model) = MathOptInterface.LOCALLY_SOLVED\n",
      "objective_value(model) = 8.336639289186186e-10\n"
     ]
    },
    {
     "name": "stdout",
     "output_type": "stream",
     "text": [
      "termination_status(model) = MathOptInterface.LOCALLY_SOLVED\n",
      "objective_value(model) = 1.1312041930606944e-9\n"
     ]
    },
    {
     "name": "stdout",
     "output_type": "stream",
     "text": [
      "termination_status(model) = MathOptInterface.LOCALLY_SOLVED\n",
      "objective_value(model) = 7.386404361880693e-10\n"
     ]
    },
    {
     "name": "stdout",
     "output_type": "stream",
     "text": [
      "termination_status(model) = MathOptInterface.LOCALLY_SOLVED\n",
      "objective_value(model) = 2.2121460346282436e-10\n"
     ]
    },
    {
     "name": "stdout",
     "output_type": "stream",
     "text": [
      "termination_status(model) = MathOptInterface.LOCALLY_SOLVED\n",
      "objective_value(model) = 2.0570184262952884e-10\n"
     ]
    },
    {
     "name": "stdout",
     "output_type": "stream",
     "text": [
      "termination_status(model) = MathOptInterface.LOCALLY_SOLVED\n",
      "objective_value(model) = 1.9865907759221313e-10\n"
     ]
    },
    {
     "name": "stdout",
     "output_type": "stream",
     "text": [
      "termination_status(model) = MathOptInterface.LOCALLY_SOLVED\n",
      "objective_value(model) = 2.5905471850351026e-10\n"
     ]
    },
    {
     "name": "stdout",
     "output_type": "stream",
     "text": [
      "termination_status(model) = MathOptInterface.LOCALLY_SOLVED\n",
      "objective_value(model) = 2.711183639812679e-10\n"
     ]
    },
    {
     "name": "stdout",
     "output_type": "stream",
     "text": [
      "termination_status(model) = MathOptInterface.LOCALLY_SOLVED\n",
      "objective_value(model) = 2.338046659627714e-10\n"
     ]
    },
    {
     "name": "stdout",
     "output_type": "stream",
     "text": [
      "termination_status(model) = MathOptInterface.LOCALLY_SOLVED\n",
      "objective_value(model) = 2.4310615231463593e-10\n"
     ]
    },
    {
     "data": {
      "text/plain": [
       "(x = [0.9999923075929861, 1.7998571907514972e-6, 1.853651998864856e-6, 0.9999891298305411, 1.8221111962510322e-5, 1.9300138324531672e-6, 0.9999887332443816, 0.9999936653069446, 2.878594631362814e-6, 7.160846095661804e-6  …  0.00019010599170417119, 1.6972893372364204e-5, 2.1214147396678223e-6, 0.9995933765932047, 2.121413900974968e-6, 0.00022271174187874873, 0.9995934101763897, 0.00019019194997885392, 0.00019015836183260425, 2.121415665412249e-6], b = [0.1, 0.1, 0.1, 0.1, 0.1, 0.1, 0.1, 0.1, 0.1, 0.1  …  0.1, 0.1, 0.1, 0.1, 0.1, 0.1, 0.1, 0.1, 0.1, 0.1], C = [0.0019538113945449286 -2.179077055906953e-9 … -0.008401665461026773 -1.4129537852762248e-7; -2.1790770559069528e-9 8.745386867015263e-13 … -2.0335700654028905e-8 8.779984368269647e-13; … ; 0.009383850553729652 7.433715705363616e-8 … 0.006390782002745353 2.679432878023455e-8; 1.3821797681623943e-7 8.78717128302175e-13 … 2.6794328780234556e-8 8.831384391365426e-13], ψ_vals = [11.870395338456817, 9.851286055993466, 1.7313959760659468, 0.9654618369572943, 0.409378970098917, 0.11955668767161626, 0.5243615315633776, 0.04882849786496881, 0.059612990316606454, 2.050008208162798e-6], violation_metrics = [0.009918403330867895, 0.008798223989337522, 0.004945457520070237, 0.006664458450845789, 0.007971363400768955, 0.009273110014181574, 0.00999993576403238, 0.009999935884474481, 0.009999935911485902, 0.009999936652869426], lambda_vals = [0.01, 0.01, 0.01, 0.01, 0.01, 0.01, 0.01, 0.01, 0.01, 0.01], v = [0.24362994656840506, 0.1624124312726937, 0.08120422575494927, 0.3248592122773441, 0.16167132700036993, 0.21749790744767175, 0.16101657456472226, 0.05606578689212995, 0.10606951422379882, 0.2129188399646559  …  0.14288899335829197, 0.14290067187956804, 0.13973625687138383, 0.1397222652800379, 0.27947358619201584, 0.27946529599003683, 0.2794545507240948, 0.4192170722299754, 0.5589643165281187, 0.4191894075265659], ∇̂ψ_C_norm = [9.584407246914814, 101.98408782326912, 74.03295650781955, 14.103021252406428, 11.478236965775281, 14.38893659881905, 27.494176635112368, 16.12783539001675, 16.272897322036595, 0.001533646005452222], D_norm = [2.805536481110261, 2.533565633151135, 2.6011911056820027, 2.9756126980917195, 3.3027858274355073, 3.6274000934924056, 3.509751886701017, 3.8743565994701874, 3.871556806271727, 3.9988026185311716], J_norm = [343.9925136642493, 311.26191075828865, 344.0844403992531, 392.70007424707387, 437.2058452840826, 480.70022775908615, 464.39218987837205, 513.4315090367994, 513.0164118869636, 529.9231570366808], pinv_J_norm = Float64[], F_norm = [2.8873238976045847e-5, 3.363337914983169e-5, 2.717794025013121e-5, 1.4873282893002267e-5, 1.434228754887283e-5, 1.4094645075302574e-5, 1.609517685806582e-5, 1.6465672284866976e-5, 1.5290672457533208e-5, 1.5591861732801476e-5])"
      ]
     },
     "metadata": {},
     "output_type": "display_data"
    }
   ],
   "source": [
    "game_name, g, p, E, E_diag, s_reduced, x̂ = grid_graph3_4_players_reduced()\n",
    "n, m = size(E)\n",
    "b = 0.1*ones(p*m)\n",
    "C = zeros(p*m, p*m)\n",
    "\n",
    "# assign parameters\n",
    "λ = 0.01\n",
    "α = 0.005\n",
    "ϵ = 1e-3\n",
    "ρ = 0.5\n",
    "max_iter = 10\n",
    "\n",
    "println(\"----------- $(game_name)_λ=($λ)_α=($α)_ϵ=($ϵ)_ρ=($ρ) -----------\")\n",
    "x, x_init, b, C, ψ_vals = approx_proj_grad(p, E, E_diag, s_reduced, x̂, λ, α, ϵ, ρ, max_iter, x, b, C)"
   ]
  },
  {
   "cell_type": "markdown",
   "id": "02005243-38e9-4f9d-b994-815db67134f3",
   "metadata": {},
   "source": [
    "#### RUNNING"
   ]
  },
  {
   "cell_type": "code",
   "execution_count": 8,
   "id": "5ba12d26",
   "metadata": {},
   "outputs": [
    {
     "data": {
      "text/plain": [
       "homotopy_exp_parameter_choice (generic function with 1 method)"
      ]
     },
     "metadata": {},
     "output_type": "display_data"
    }
   ],
   "source": [
    "function homotopy_exp_parameter_choice(p, E, E_diag, s_reduced, x̂, λ_list, α, ϵ, ρ, max_iter)\n",
    "    n, m = size(E)\n",
    "\n",
    "    # output placeholder\n",
    "    x = zeros(p*m)\n",
    "    b = 0.1*ones(p*m)\n",
    "    C = zeros(p*m, p*m)\n",
    "    v = zeros(p*(n-1))\n",
    "    \n",
    "    ψ_vals_list = Float64[]\n",
    "    violation_metrics_list = Float64[]\n",
    "    lambda_vals_list = Float64[]\n",
    "    ∇̂ψ_C_norm_list = Float64[]\n",
    "    D_norm_list = Float64[]\n",
    "    J_norm_list = Float64[]\n",
    "    pinv_J_norm_list = Float64[]\n",
    "    F_norm_list = Float64[]\n",
    "\n",
    "    for λ in λ_list\n",
    "        println(\"λ=$λ, α=$α\")\n",
    "        x, b, C, ψ_vals, violation_metrics, lambda_vals, v, ∇̂ψ_C_norm, D_norm, J_norm, pinv_J_norm, F_norm = approx_proj_grad(p, E, E_diag, s_reduced, x̂, λ, α, ϵ, ρ, max_iter, x, b, C)\n",
    "        append!(ψ_vals_list, ψ_vals)\n",
    "        append!(violation_metrics_list, violation_metrics)\n",
    "        append!(lambda_vals_list, lambda_vals)\n",
    "        append!(∇̂ψ_C_norm_list, ∇̂ψ_C_norm)\n",
    "        append!(D_norm_list, D_norm)\n",
    "        append!(J_norm_list, J_norm)\n",
    "        append!(pinv_J_norm_list, pinv_J_norm)\n",
    "        append!(F_norm_list, F_norm)\n",
    "    end\n",
    "    \n",
    "    (;x = x,\n",
    "      b = b,\n",
    "      C = C,\n",
    "      ψ_vals_list = ψ_vals_list,\n",
    "      violation_metrics_list = violation_metrics_list,\n",
    "      lambda_vals_list = lambda_vals_list,\n",
    "      v = v,\n",
    "      ∇̂ψ_C_norm_list = ∇̂ψ_C_norm_list,\n",
    "      D_norm_list = D_norm_list,\n",
    "      J_norm_list = J_norm_list,\n",
    "      pinv_J_norm_list = pinv_J_norm_list,\n",
    "      F_norm_list = F_norm_list)\n",
    "end"
   ]
  },
  {
   "cell_type": "code",
   "execution_count": 9,
   "id": "237d4ae3",
   "metadata": {},
   "outputs": [
    {
     "name": "stdout",
     "output_type": "stream",
     "text": [
      "λ_list = [1.0 / 2 ^ i for i = 1:8] = [0.5, 0.25, 0.125, 0.0625, 0.03125, 0.015625, 0.0078125, 0.00390625]\n"
     ]
    },
    {
     "data": {
      "text/plain": [
       "\"homotopy_results/grid_graph3_4_players_reduced\""
      ]
     },
     "metadata": {},
     "output_type": "display_data"
    }
   ],
   "source": [
    "using JLD2\n",
    "\n",
    "# instantiate a routing game (p, E, s) with desired Nash sol x̂\n",
    "game_name, g, p, E, E_diag, s_reduced, x̂ = grid_graph3_4_players_reduced()\n",
    "\n",
    "# assign parameters\n",
    "α = 0.005\n",
    "ϵ = 1e-3\n",
    "ρ = 0.5\n",
    "max_iter = 10\n",
    "@show λ_list = [1.0/(2^i) for i in 1:8]\n",
    "\n",
    "# create an individual folder under homotopy_results/\n",
    "dir = \"homotopy_results/$(game_name)\"; mkpath(dir) # mkdir if not exists"
   ]
  },
  {
   "cell_type": "code",
   "execution_count": 10,
   "id": "33b5b9df",
   "metadata": {},
   "outputs": [
    {
     "name": "stdout",
     "output_type": "stream",
     "text": [
      "----------- grid_graph3_4_players_reduced_ρ=(0.5)_λ_list=([0.5, 0.25, 0.125, 0.0625, 0.03125, 0.015625, 0.0078125, 0.00390625])_α=(0.005)_ϵ=(0.001) -----------\n"
     ]
    },
    {
     "name": "stdout",
     "output_type": "stream",
     "text": [
      "λ=0.5, α=0.005\n",
      "Starting approx proj grad...\n",
      "termination_status(model) = MathOptInterface.LOCALLY_SOLVED\n",
      "objective_value(model) = 1.3910173179656852e-20\n"
     ]
    },
    {
     "name": "stdout",
     "output_type": "stream",
     "text": [
      "termination_status(model) = MathOptInterface.LOCALLY_SOLVED\n",
      "objective_value(model) = 1.474229337739474e-20\n"
     ]
    },
    {
     "name": "stdout",
     "output_type": "stream",
     "text": [
      "termination_status(model) = MathOptInterface.LOCALLY_SOLVED\n",
      "objective_value(model) = 1.5568209758683604e-20\n"
     ]
    },
    {
     "name": "stdout",
     "output_type": "stream",
     "text": [
      "termination_status(model) = MathOptInterface.LOCALLY_SOLVED\n",
      "objective_value(model) = 1.6368566502597376e-20\n"
     ]
    },
    {
     "name": "stdout",
     "output_type": "stream",
     "text": [
      "termination_status(model) = MathOptInterface.LOCALLY_SOLVED\n",
      "objective_value(model) = 1.7141136777074802e-20\n"
     ]
    },
    {
     "name": "stdout",
     "output_type": "stream",
     "text": [
      "termination_status(model) = MathOptInterface.LOCALLY_SOLVED\n",
      "objective_value(model) = 1.788994934089591e-20\n"
     ]
    },
    {
     "name": "stdout",
     "output_type": "stream",
     "text": [
      "termination_status(model) = MathOptInterface.LOCALLY_SOLVED\n",
      "objective_value(model) = 1.8621563643453946e-20\n"
     ]
    },
    {
     "name": "stdout",
     "output_type": "stream",
     "text": [
      "termination_status(model) = MathOptInterface.LOCALLY_SOLVED\n",
      "objective_value(model) = 1.9342905139266414e-20\n"
     ]
    },
    {
     "name": "stdout",
     "output_type": "stream",
     "text": [
      "termination_status(model) = MathOptInterface.LOCALLY_SOLVED\n",
      "objective_value(model) = 2.0061135382813354e-20\n"
     ]
    },
    {
     "name": "stdout",
     "output_type": "stream",
     "text": [
      "termination_status(model) = MathOptInterface.LOCALLY_SOLVED\n",
      "objective_value(model) = 2.0782942019119065e-20\n"
     ]
    },
    {
     "name": "stdout",
     "output_type": "stream",
     "text": [
      "λ=0.25, α=0.005\n",
      "Starting approx proj grad...\n"
     ]
    },
    {
     "name": "stdout",
     "output_type": "stream",
     "text": [
      "termination_status(model) = MathOptInterface.LOCALLY_SOLVED\n",
      "objective_value(model) = 5.605220154144124e-20\n"
     ]
    },
    {
     "name": "stdout",
     "output_type": "stream",
     "text": [
      "termination_status(model) = MathOptInterface.LOCALLY_SOLVED\n",
      "objective_value(model) = 5.914503686909827e-20\n"
     ]
    },
    {
     "name": "stdout",
     "output_type": "stream",
     "text": [
      "termination_status(model) = MathOptInterface.LOCALLY_SOLVED\n",
      "objective_value(model) = 6.249462778183091e-20\n"
     ]
    },
    {
     "name": "stdout",
     "output_type": "stream",
     "text": [
      "termination_status(model) = MathOptInterface.LOCALLY_SOLVED\n",
      "objective_value(model) = 6.612914589358683e-20\n"
     ]
    },
    {
     "name": "stdout",
     "output_type": "stream",
     "text": [
      "termination_status(model) = MathOptInterface.LOCALLY_SOLVED\n",
      "objective_value(model) = 7.006690417312811e-20\n"
     ]
    },
    {
     "name": "stdout",
     "output_type": "stream",
     "text": [
      "termination_status(model) = MathOptInterface.LOCALLY_SOLVED\n",
      "objective_value(model) = 7.296975694298531e-20\n"
     ]
    },
    {
     "name": "stdout",
     "output_type": "stream",
     "text": [
      "termination_status(model) = MathOptInterface.LOCALLY_SOLVED\n",
      "objective_value(model) = 7.334444845574671e-20\n"
     ]
    },
    {
     "name": "stdout",
     "output_type": "stream",
     "text": [
      "termination_status(model) = MathOptInterface.LOCALLY_SOLVED\n",
      "objective_value(model) = 7.367190176261953e-20\n"
     ]
    },
    {
     "name": "stdout",
     "output_type": "stream",
     "text": [
      "termination_status(model) = MathOptInterface.LOCALLY_SOLVED\n",
      "objective_value(model) = 7.395649423435874e-20\n"
     ]
    },
    {
     "name": "stdout",
     "output_type": "stream",
     "text": [
      "termination_status(model) = MathOptInterface.LOCALLY_SOLVED\n",
      "objective_value(model) = 7.420257607789068e-20\n"
     ]
    },
    {
     "name": "stdout",
     "output_type": "stream",
     "text": [
      "λ=0.125, α=0.005\n",
      "Starting approx proj grad...\n"
     ]
    },
    {
     "name": "stdout",
     "output_type": "stream",
     "text": [
      "termination_status(model) = MathOptInterface.LOCALLY_SOLVED\n",
      "objective_value(model) = 6.487069712682579e-19\n"
     ]
    },
    {
     "name": "stdout",
     "output_type": "stream",
     "text": [
      "termination_status(model) = MathOptInterface.LOCALLY_SOLVED\n",
      "objective_value(model) = 6.7826579428699225e-19\n"
     ]
    },
    {
     "name": "stdout",
     "output_type": "stream",
     "text": [
      "termination_status(model) = MathOptInterface.LOCALLY_SOLVED\n",
      "objective_value(model) = 7.033249301138132e-19\n"
     ]
    },
    {
     "name": "stdout",
     "output_type": "stream",
     "text": [
      "termination_status(model) = MathOptInterface.LOCALLY_SOLVED\n",
      "objective_value(model) = 7.26676994565932e-19\n"
     ]
    },
    {
     "name": "stdout",
     "output_type": "stream",
     "text": [
      "termination_status(model) = MathOptInterface.LOCALLY_SOLVED\n",
      "objective_value(model) = 7.481557405886645e-19\n"
     ]
    },
    {
     "name": "stdout",
     "output_type": "stream",
     "text": [
      "termination_status(model) = MathOptInterface.LOCALLY_SOLVED\n",
      "objective_value(model) = 7.678333940536122e-19\n"
     ]
    },
    {
     "name": "stdout",
     "output_type": "stream",
     "text": [
      "termination_status(model) = MathOptInterface.LOCALLY_SOLVED\n",
      "objective_value(model) = 7.856029865341905e-19\n"
     ]
    },
    {
     "name": "stdout",
     "output_type": "stream",
     "text": [
      "termination_status(model) = MathOptInterface.LOCALLY_SOLVED\n",
      "objective_value(model) = 8.012052198760582e-19\n"
     ]
    },
    {
     "name": "stdout",
     "output_type": "stream",
     "text": [
      "termination_status(model) = MathOptInterface.LOCALLY_SOLVED\n",
      "objective_value(model) = 8.145857069074637e-19\n"
     ]
    },
    {
     "name": "stdout",
     "output_type": "stream",
     "text": [
      "termination_status(model) = MathOptInterface.LOCALLY_SOLVED\n",
      "objective_value(model) = 8.257460739531032e-19\n",
      "λ=0.0625, α=0.005\n",
      "Starting approx proj grad...\n"
     ]
    },
    {
     "name": "stdout",
     "output_type": "stream",
     "text": [
      "termination_status(model) = MathOptInterface.LOCALLY_SOLVED\n",
      "objective_value(model) = 2.8438522223112124e-15\n"
     ]
    },
    {
     "name": "stdout",
     "output_type": "stream",
     "text": [
      "termination_status(model) = MathOptInterface.LOCALLY_SOLVED\n",
      "objective_value(model) = 2.4684108118720853e-16\n"
     ]
    },
    {
     "name": "stdout",
     "output_type": "stream",
     "text": [
      "termination_status(model) = MathOptInterface.LOCALLY_SOLVED\n",
      "objective_value(model) = 2.6784011052550187e-16\n"
     ]
    },
    {
     "name": "stdout",
     "output_type": "stream",
     "text": [
      "termination_status(model) = MathOptInterface.LOCALLY_SOLVED\n",
      "objective_value(model) = 2.2958504519171477e-14\n"
     ]
    },
    {
     "name": "stdout",
     "output_type": "stream",
     "text": [
      "termination_status(model) = MathOptInterface.LOCALLY_SOLVED\n",
      "objective_value(model) = 3.5527677707469944e-14\n"
     ]
    },
    {
     "name": "stdout",
     "output_type": "stream",
     "text": [
      "termination_status(model) = MathOptInterface.LOCALLY_SOLVED\n",
      "objective_value(model) = 3.2162116004353864e-16\n"
     ]
    },
    {
     "name": "stdout",
     "output_type": "stream",
     "text": [
      "termination_status(model) = MathOptInterface.LOCALLY_SOLVED\n",
      "objective_value(model) = 3.38128222260337e-16\n"
     ]
    },
    {
     "name": "stdout",
     "output_type": "stream",
     "text": [
      "termination_status(model) = MathOptInterface.LOCALLY_SOLVED\n",
      "objective_value(model) = 3.5378228054465736e-16\n"
     ]
    },
    {
     "name": "stdout",
     "output_type": "stream",
     "text": [
      "termination_status(model) = MathOptInterface.LOCALLY_SOLVED\n",
      "objective_value(model) = 3.686190063944391e-16\n"
     ]
    },
    {
     "name": "stdout",
     "output_type": "stream",
     "text": [
      "termination_status(model) = MathOptInterface.LOCALLY_SOLVED\n",
      "objective_value(model) = 3.826705967722308e-16\n",
      "λ=0.03125, α=0.005\n",
      "Starting approx proj grad...\n"
     ]
    },
    {
     "name": "stdout",
     "output_type": "stream",
     "text": [
      "termination_status(model) = MathOptInterface.LOCALLY_SOLVED\n",
      "objective_value(model) = 1.0544421047032834e-10\n"
     ]
    },
    {
     "name": "stdout",
     "output_type": "stream",
     "text": [
      "termination_status(model) = MathOptInterface.LOCALLY_SOLVED\n",
      "objective_value(model) = 1.0550716281779835e-10\n"
     ]
    },
    {
     "name": "stdout",
     "output_type": "stream",
     "text": [
      "termination_status(model) = MathOptInterface.LOCALLY_SOLVED\n",
      "objective_value(model) = 1.0559274237173698e-10\n"
     ]
    },
    {
     "name": "stdout",
     "output_type": "stream",
     "text": [
      "termination_status(model) = MathOptInterface.LOCALLY_SOLVED\n",
      "objective_value(model) = 1.0563488519853999e-10\n"
     ]
    },
    {
     "name": "stdout",
     "output_type": "stream",
     "text": [
      "termination_status(model) = MathOptInterface.LOCALLY_SOLVED\n",
      "objective_value(model) = 1.0564695806493464e-10\n"
     ]
    },
    {
     "name": "stdout",
     "output_type": "stream",
     "text": [
      "termination_status(model) = MathOptInterface.LOCALLY_SOLVED\n",
      "objective_value(model) = 1.0567145433172603e-10\n"
     ]
    },
    {
     "name": "stdout",
     "output_type": "stream",
     "text": [
      "termination_status(model) = MathOptInterface.LOCALLY_SOLVED\n",
      "objective_value(model) = 1.05681640454215e-10\n"
     ]
    },
    {
     "name": "stdout",
     "output_type": "stream",
     "text": [
      "termination_status(model) = MathOptInterface.LOCALLY_SOLVED\n",
      "objective_value(model) = 1.0560510633814156e-10\n"
     ]
    },
    {
     "name": "stdout",
     "output_type": "stream",
     "text": [
      "termination_status(model) = MathOptInterface.LOCALLY_SOLVED\n",
      "objective_value(model) = 1.0559883816240884e-10\n"
     ]
    },
    {
     "name": "stdout",
     "output_type": "stream",
     "text": [
      "termination_status(model) = MathOptInterface.LOCALLY_SOLVED\n",
      "objective_value(model) = 1.0565610940457672e-10\n"
     ]
    },
    {
     "name": "stdout",
     "output_type": "stream",
     "text": [
      "λ=0.015625, α=0.005\n",
      "Starting approx proj grad...\n"
     ]
    },
    {
     "name": "stdout",
     "output_type": "stream",
     "text": [
      "termination_status(model) = MathOptInterface.LOCALLY_SOLVED\n",
      "objective_value(model) = 2.0050945452721744e-10\n"
     ]
    },
    {
     "name": "stdout",
     "output_type": "stream",
     "text": [
      "termination_status(model) = MathOptInterface.LOCALLY_SOLVED\n",
      "objective_value(model) = 2.0050977489586855e-10\n"
     ]
    },
    {
     "name": "stdout",
     "output_type": "stream",
     "text": [
      "termination_status(model) = MathOptInterface.LOCALLY_SOLVED\n",
      "objective_value(model) = 2.0050986191674784e-10\n"
     ]
    },
    {
     "name": "stdout",
     "output_type": "stream",
     "text": [
      "termination_status(model) = MathOptInterface.LOCALLY_SOLVED\n",
      "objective_value(model) = 2.0050986268474383e-10\n"
     ]
    },
    {
     "name": "stdout",
     "output_type": "stream",
     "text": [
      "termination_status(model) = MathOptInterface.LOCALLY_SOLVED\n",
      "objective_value(model) = 2.0050986344953104e-10\n"
     ]
    },
    {
     "name": "stdout",
     "output_type": "stream",
     "text": [
      "termination_status(model) = MathOptInterface.LOCALLY_SOLVED\n",
      "objective_value(model) = 2.005098642185954e-10\n"
     ]
    },
    {
     "name": "stdout",
     "output_type": "stream",
     "text": [
      "termination_status(model) = MathOptInterface.LOCALLY_SOLVED\n",
      "objective_value(model) = 2.005098649872413e-10\n"
     ]
    },
    {
     "name": "stdout",
     "output_type": "stream",
     "text": [
      "termination_status(model) = MathOptInterface.LOCALLY_SOLVED\n",
      "objective_value(model) = 2.00509865756667e-10\n"
     ]
    },
    {
     "name": "stdout",
     "output_type": "stream",
     "text": [
      "termination_status(model) = MathOptInterface.LOCALLY_SOLVED\n",
      "objective_value(model) = 2.0050986652596507e-10\n"
     ]
    },
    {
     "name": "stdout",
     "output_type": "stream",
     "text": [
      "termination_status(model) = MathOptInterface.LOCALLY_SOLVED\n",
      "objective_value(model) = 2.0050986729434544e-10\n",
      "λ=0.0078125, α=0.005\n",
      "Starting approx proj grad...\n"
     ]
    },
    {
     "name": "stdout",
     "output_type": "stream",
     "text": [
      "termination_status(model) = MathOptInterface.LOCALLY_SOLVED\n",
      "objective_value(model) = 4.347446409042862e-10\n"
     ]
    },
    {
     "name": "stdout",
     "output_type": "stream",
     "text": [
      "termination_status(model) = MathOptInterface.LOCALLY_SOLVED\n",
      "objective_value(model) = 4.347446408742975e-10\n"
     ]
    },
    {
     "name": "stdout",
     "output_type": "stream",
     "text": [
      "termination_status(model) = MathOptInterface.LOCALLY_SOLVED\n",
      "objective_value(model) = 4.3474464087445753e-10\n"
     ]
    },
    {
     "name": "stdout",
     "output_type": "stream",
     "text": [
      "termination_status(model) = MathOptInterface.LOCALLY_SOLVED\n",
      "objective_value(model) = 4.3474464087496966e-10\n"
     ]
    },
    {
     "name": "stdout",
     "output_type": "stream",
     "text": [
      "termination_status(model) = MathOptInterface.LOCALLY_SOLVED\n",
      "objective_value(model) = 4.3474464087504824e-10\n"
     ]
    },
    {
     "name": "stdout",
     "output_type": "stream",
     "text": [
      "termination_status(model) = MathOptInterface.LOCALLY_SOLVED\n",
      "objective_value(model) = 4.3474464087517516e-10\n"
     ]
    },
    {
     "name": "stdout",
     "output_type": "stream",
     "text": [
      "termination_status(model) = MathOptInterface.LOCALLY_SOLVED\n",
      "objective_value(model) = 4.3474464087710787e-10\n"
     ]
    },
    {
     "name": "stdout",
     "output_type": "stream",
     "text": [
      "termination_status(model) = MathOptInterface.LOCALLY_SOLVED\n",
      "objective_value(model) = 4.347446408769276e-10\n"
     ]
    },
    {
     "name": "stdout",
     "output_type": "stream",
     "text": [
      "termination_status(model) = MathOptInterface.LOCALLY_SOLVED\n",
      "objective_value(model) = 4.3474464087680347e-10\n"
     ]
    },
    {
     "name": "stdout",
     "output_type": "stream",
     "text": [
      "termination_status(model) = MathOptInterface.LOCALLY_SOLVED\n",
      "objective_value(model) = 4.34744640877021e-10\n"
     ]
    },
    {
     "name": "stdout",
     "output_type": "stream",
     "text": [
      "λ=0.00390625, α=0.005\n",
      "Starting approx proj grad...\n"
     ]
    },
    {
     "name": "stdout",
     "output_type": "stream",
     "text": [
      "termination_status(model) = MathOptInterface.ALMOST_LOCALLY_SOLVED\n",
      "objective_value(model) = 0.5239294191986992\n"
     ]
    },
    {
     "name": "stdout",
     "output_type": "stream",
     "text": [
      "termination_status(model) = MathOptInterface.LOCALLY_SOLVED\n",
      "objective_value(model) = 4.347299704467442e-10\n"
     ]
    },
    {
     "name": "stdout",
     "output_type": "stream",
     "text": [
      "termination_status(model) = MathOptInterface.LOCALLY_SOLVED\n",
      "objective_value(model) = 4.347299704471879e-10\n"
     ]
    },
    {
     "name": "stdout",
     "output_type": "stream",
     "text": [
      "termination_status(model) = MathOptInterface.LOCALLY_SOLVED\n",
      "objective_value(model) = 4.34729970447496e-10\n"
     ]
    },
    {
     "name": "stdout",
     "output_type": "stream",
     "text": [
      "termination_status(model) = MathOptInterface.LOCALLY_SOLVED\n",
      "objective_value(model) = 4.3472997044746597e-10\n"
     ]
    },
    {
     "name": "stdout",
     "output_type": "stream",
     "text": [
      "termination_status(model) = MathOptInterface.LOCALLY_SOLVED\n",
      "objective_value(model) = 4.3472997044690214e-10\n"
     ]
    },
    {
     "name": "stdout",
     "output_type": "stream",
     "text": [
      "termination_status(model) = MathOptInterface.LOCALLY_SOLVED\n",
      "objective_value(model) = 4.3472997044684837e-10\n"
     ]
    },
    {
     "name": "stdout",
     "output_type": "stream",
     "text": [
      "termination_status(model) = MathOptInterface.LOCALLY_SOLVED\n",
      "objective_value(model) = 4.347299704474061e-10\n"
     ]
    },
    {
     "name": "stdout",
     "output_type": "stream",
     "text": [
      "termination_status(model) = MathOptInterface.LOCALLY_SOLVED\n",
      "objective_value(model) = 4.3472997044721476e-10\n"
     ]
    },
    {
     "name": "stdout",
     "output_type": "stream",
     "text": [
      "termination_status(model) = MathOptInterface.LOCALLY_SOLVED\n",
      "objective_value(model) = 4.3472997044739964e-10\n"
     ]
    },
    {
     "name": "stdout",
     "output_type": "stream",
     "text": [
      "saving result to 'homotopy_results/grid_graph3_4_players_reduced/grid_graph3_4_players_reduced_λ_list=([0.5, 0.25, 0.125, 0.0625, 0.03125, 0.015625, 0.0078125, 0.00390625])_homotopy.jld2'\n"
     ]
    },
    {
     "name": "stdout",
     "output_type": "stream",
     "text": [
      "--------------------------------\n"
     ]
    }
   ],
   "source": [
    "\"\"\" RUNNING EXP: PARAMETER CHOICE \"\"\"\n",
    "# calling method\n",
    "println(\"----------- $(game_name)_ρ=($ρ)_λ_list=($λ_list)_α=($α)_ϵ=($ϵ) -----------\")\n",
    "x, b, C, ψ_vals_list, violation_metrics_list, lambda_vals_list, v, ∇̂ψ_C_norm_list, D_norm_list, J_norm_list, pinv_J_norm_list, F_norm_list = homotopy_exp_parameter_choice(p, E, E_diag, s_reduced, x̂, λ_list, α, ϵ, ρ, max_iter)\n",
    "\n",
    "# save data to folder\n",
    "println(\"saving result to '$dir/$(game_name)_λ_list=($λ_list)_homotopy.jld2'\")\n",
    "@save \"$dir/$(game_name)_λ_list=($λ_list)_homotopy.jld2\" ρ λ_list α ϵ max_iter lambda_vals_list ψ_vals_list violation_metrics_list v ∇̂ψ_C_norm_list D_norm_list J_norm_list pinv_J_norm_list F_norm_list\n",
    "println(\"--------------------------------\")\n",
    "\n",
    "@show findall(x->x>=0.2, x[1:24])   # expected [9, 13]"
   ]
  },
  {
   "cell_type": "code",
   "execution_count": 1,
   "id": "86bde410",
   "metadata": {},
   "outputs": [
    {
     "ename": "UndefVarError",
     "evalue": "UndefVarError: x not defined",
     "output_type": "error",
     "traceback": [
      "UndefVarError: x not defined\n",
      "\n",
      "Stacktrace:\n",
      " [1] top-level scope\n",
      "   @ show.jl:1047"
     ]
    }
   ],
   "source": [
    "@show findall(x->x>0.2, x[1:24])"
   ]
  },
  {
   "cell_type": "code",
   "execution_count": 12,
   "id": "0c448fe8",
   "metadata": {},
   "outputs": [],
   "source": [
    "using Plots, IJulia\n",
    "mkpath(\"current_homotopy\")\n",
    "\n",
    "@load \"$dir/$(game_name)_λ_list=($λ_list)_homotopy.jld2\" ρ λ_list α ϵ max_iter lambda_vals_list ψ_vals_list violation_metrics_list v ∇̂ψ_C_norm_list D_norm_list J_norm_list pinv_J_norm_list F_norm_list\n",
    "\n",
    "# plot single axis (log-scaled)\n",
    "p1 = plot(lambda_vals_list, yscale=:log10, c=:green, label=\"λ\", leg=:bottomleft, xlabel=\"iter\", ylabel=\"log10 scaled\")\n",
    "plot!(ψ_vals_list, yscale=:log10, c=:blue, linestyle=:dash, label=\"ψ(x)\", leg=:bottomleft)\n",
    "plot!(violation_metrics_list, yscale=:log10, c=:red, linestyle=:dash, label=\"violation metric\", leg=:bottomleft)\n",
    "hline!([1e-3], label=\"1e-3\", c=:grey)\n",
    "plot!(title=\"ρ=($ρ), α=($α), ϵ=($ϵ)\")\n",
    "println(\"saving plot to '$dir/$(game_name)_λ_list=($λ_list)_homotopy.png'\")\n",
    "savefig(\"$dir/$(game_name)_λ_list=($λ_list)_homotopy.png\")\n",
    "IJulia.display(p1)\n",
    "\n",
    "# plot helper_metrics_plot\n",
    "# plot!(pinv_J_norm_list, label=\"pinv_J_norm_list\", yscale=:log10)\n",
    "p2 = plot(F_norm_list, label=\"F_norm_list\", yscale=:log10)\n",
    "# plot!(∇̂ψ_C_norm_list, label=\"∇̂ψ_C_norm_list\", yscale=:log10, leg=:bottomleft)\n",
    "# plot!(D_norm_list, label=\"D_norm_list\", yscale=:log10)\n",
    "# plot!(J_norm_list, label=\"J_norm_list\", yscale=:log10)\n",
    "hline!([1e-3], label=\"1e-3\", c=:grey)\n",
    "println(\"saving plot to '$dir/$(game_name)_λ_list=($λ_list)_helper_metrics.png'\")\n",
    "savefig(\"$dir/$(game_name)_λ_list=($λ_list)_helper_metrics.png\")\n",
    "IJulia.display(p2)"
   ]
  }
 ],
 "metadata": {
  "kernelspec": {
   "display_name": "Julia 1.7.2",
   "language": "julia",
   "name": "julia-1.7"
  },
  "language_info": {
   "file_extension": ".jl",
   "mimetype": "application/julia",
   "name": "julia",
   "version": "1.7.2"
  }
 },
 "nbformat": 4,
 "nbformat_minor": 5
}
