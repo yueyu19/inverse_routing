{
 "cells": [
  {
   "cell_type": "markdown",
   "id": "b6fd12bd-fdca-4048-a698-15c66b64f794",
   "metadata": {
    "tags": []
   },
   "source": [
    "## FORWARD SOLVER: game(b, C) ==> (x, v)"
   ]
  },
  {
   "cell_type": "code",
   "execution_count": 20,
   "id": "6f853d2e-d7d0-40f1-9f06-b9e51cf825d3",
   "metadata": {},
   "outputs": [
    {
     "data": {
      "text/plain": [
       "solve_entropy_routing"
      ]
     },
     "metadata": {},
     "output_type": "display_data"
    }
   ],
   "source": [
    "using NLsolve\n",
    "using LinearAlgebra\n",
    "\n",
    "\"\"\"\n",
    "Compute entropy-regularized Nash mixed strategies by Newton's method\n",
    "Inputs:\n",
    "- pa, struct of parameters containing:\n",
    "    - p, number of players\n",
    "    - E, incidence matrix, where (n, m) = size(E)\n",
    "    - s, source-sink vector\n",
    "    - b, where b_i is the nominal price of each link for all i ∈ [p] players\n",
    "    - C, additional cost adjustment introduced by other players\n",
    "- λ, entropy weight\n",
    "\n",
    "Returns:\n",
    "- x: mixed eq strategies for each player on space of links\n",
    "- v: value vector/function associated to all nodes\n",
    "\"\"\"\n",
    "function solve_entropy_routing(pa, λ)\n",
    "    println(\"calling solve_entropy_routing...\")\n",
    "    function nash!(F, xi)\n",
    "        # x = xi[1:pa.p*pa.m]\n",
    "        # v = xi[pa.p*pa.m+1:end]\n",
    "        # F[1:pa.p*pa.m] = x - exp.(1/λ * (kron(I(pa.p), pa.E') * v - pa.b - pa.C * x) - ones(pa.p*pa.m,1))\n",
    "        # F[pa.p*pa.m+1:end] = pa.s - kron(I(pa.p), pa.E) * x\n",
    "\n",
    "        for i in 1:pa.p*pa.m\n",
    "            F[i] = xi[1:pa.p*pa.m][i] - exp(1/λ * ((kron(I(pa.p), pa.E') * xi[pa.p*pa.m+1:end])[i] - pa.b[i] - (pa.C * xi[1:pa.p*pa.m])[i]) - ones(pa.p*pa.m,1)[i])\n",
    "        end\n",
    "        for j in 1:pa.p*pa.n\n",
    "            F[pa.p*pa.m+j] = pa.s[j] - (kron(I(pa.p), pa.E) * xi[1:pa.p*pa.m])[j]\n",
    "        end\n",
    "    end\n",
    "\n",
    "    function j!(H, xi)\n",
    "        # x = xi[1:pa.p*pa.m]\n",
    "        # v = xi[pa.p*pa.m+1:end]\n",
    "\n",
    "        # compute D, J \n",
    "        D = diagm(vec(exp.(1/λ * (kron(I(pa.p), pa.E')*xi[pa.p*pa.m+1:end] - pa.b - pa.C*xi[1:pa.p*pa.m]) - ones(pa.p*pa.m, 1)))) # dim: 18x18\n",
    "        \n",
    "        # for i in 1:pa.p*pa.m, j in 1:pa.p*pa.m\n",
    "        #     J[i, j] = I(pa.p*pa.m)[i,j] + (1/λ*D*pa.C)[i,j]\n",
    "        # end\n",
    "        # for i in 1:pa.p*pa.m, j in pa.p*pa.m+1:pa.p(pa.m+pa.n)\n",
    "        #     J[i, j] = 1/λ*D*kron(I(pa.p), pa.E')[i,j]\n",
    "        # end\n",
    "        # for i in pa.p*pa.m+1:pa.p(pa.m+pa.n), j in 1:pa.p*pa.m\n",
    "        #     J[i, j] = kron(-I(pa.p), pa.E)[i,j]\n",
    "        # end\n",
    "        # for i in pa.p*pa.m+1:pa.p(pa.m+pa.n), j in pa.p*pa.m+1:pa.p(pa.m+pa.n)\n",
    "        #     J[i, j] = 0\n",
    "        # end\n",
    "\n",
    "        J = [I(pa.p*pa.m)+1/λ*D*pa.C 1/λ*D*kron(I(pa.p), pa.E'); kron(-I(pa.p), pa.E) zeros(pa.p*pa.n, pa.p*pa.n)] # dim: 27x27\n",
    "        for i in 1:pa.p*(pa.m+pa.n), j in 1:pa.p*(pa.m+pa.n)\n",
    "            H[i, j] = J[i, j]\n",
    "        end\n",
    "    end\n",
    "\n",
    "    x0 = 0.5.*ones(pa.p*pa.m, 1)\n",
    "    v0 = 0.5.*ones(pa.p*pa.n, 1)\n",
    "    sol = nlsolve(nash!, [x0; v0], autodiff = :forward, show_trace=false, ftol=1e-4)\n",
    "    # sol = nlsolve(nash!, j!, [x0; v0], show_trace=true)\n",
    "\n",
    "    (;x = sol.zero[1:pa.p*pa.m],\n",
    "      v = sol.zero[pa.p*pa.m+1:end])\n",
    "end"
   ]
  },
  {
   "cell_type": "markdown",
   "id": "d4614d1a-9e58-470f-9994-335da303a78b",
   "metadata": {},
   "source": [
    "## BACKWARD SOLVER: game + (x, v) ==> (b, C)"
   ]
  },
  {
   "cell_type": "code",
   "execution_count": 21,
   "id": "ac3dc46a-7c40-49ed-9e78-25f6f698159d",
   "metadata": {},
   "outputs": [],
   "source": [
    "using Plots, GraphPlot, Colors\n",
    "using Graphs, GraphRecipes\n",
    "using ArgParse\n",
    "using JLD2"
   ]
  },
  {
   "cell_type": "code",
   "execution_count": 22,
   "id": "6a5ed9b2-fad6-4a20-8a09-8a05f3de8320",
   "metadata": {},
   "outputs": [
    {
     "data": {
      "text/plain": [
       "plot_unlabeled (generic function with 1 method)"
      ]
     },
     "metadata": {},
     "output_type": "display_data"
    }
   ],
   "source": [
    "# helper function: plot unlabeled directed graph - GRID_GRAPH\n",
    "function plot_unlabeled(game_name, g, row_num)\n",
    "    # generating edgelabel_dict\n",
    "    edgelabel_dict = Dict{Tuple{Int64, Int64}, String}()\n",
    "    for i in 1:ne(g)\n",
    "        col = -Matrix(incidence_matrix(g))[:,i]\n",
    "        edgelabel_dict[(findall(x->x==1, col)[1], findall(x->x==-1, col)[1])] =string(i)\n",
    "    end\n",
    "    # plotting directed graph with node and link labelings\n",
    "    δ=0.01\n",
    "    locs_x = collect(Iterators.flatten([i%2==1 ? [1:row_num...] : [1:row_num...].+δ for i in 1:row_num]))\n",
    "    locs_y = collect(Iterators.flatten([repeat([i],row_num) for i in row_num:-1:1]))\n",
    "    graphplot(g,\n",
    "              names=1:nv(g), x=2*locs_x, y=1.5*locs_y, nodeshape=:circle, nodesize=0.8,\n",
    "              edgelabel=edgelabel_dict, curvature_scalar=0.2)\n",
    "    savefig(\"($game_name$row_num)_unlabeled.png\")\n",
    "end"
   ]
  },
  {
   "cell_type": "code",
   "execution_count": 23,
   "id": "71b802f9-2e5a-4d77-a2e2-9f8e6525dcf0",
   "metadata": {},
   "outputs": [
    {
     "data": {
      "text/plain": [
       "proj_D (generic function with 1 method)"
      ]
     },
     "metadata": {},
     "output_type": "display_data"
    }
   ],
   "source": [
    "# helper function: projection onto D\n",
    "function proj_D(C, ρ)\n",
    "    s = eigvals(0.5 * (C + C'))\n",
    "    U = eigvecs(0.5 * (C + C'))\n",
    "    A = 1/2 * (C - C') + U * diagm(vec(max.(s,zeros(length(s))))) * U'\n",
    "    return ρ / max.(ρ, norm(A)) * A\n",
    "end"
   ]
  },
  {
   "cell_type": "code",
   "execution_count": 24,
   "id": "b3c46b19-e84f-47f3-b423-cc759b948c99",
   "metadata": {},
   "outputs": [
    {
     "data": {
      "text/plain": [
       "approx_proj_grad"
      ]
     },
     "metadata": {},
     "output_type": "display_data"
    }
   ],
   "source": [
    "\"\"\"\n",
    "Approximate projected gradient method (measuring function ψ(x)=1/2*||x-x̂||^2)\n",
    "Inputs:\n",
    "- p, number of players\n",
    "- E, incidence matrix\n",
    "- s, source-sink vector\n",
    "- x̂, desired Nash solution\n",
    "- λ, entropy weight\n",
    "- α, step size\n",
    "- ϵ, stopping tolerance\n",
    "- ρ, modification allowance\n",
    "- max_iter\n",
    "- scale_factor\n",
    "\n",
    "Returns:\n",
    "- x: mixed eq strategies for each player on space of links\n",
    "- b\n",
    "- C\n",
    "\"\"\"\n",
    "function approx_proj_grad(p, E, s, x̂, λ, α, ϵ, ρ, max_iter, scale_factor)\n",
    "    n, m = size(E)\n",
    "    \n",
    "    # initiate b, b_plus, C, C_plus\n",
    "    # b = zeros(p*m) * scale_factor\n",
    "    # b_plus = 0.1*ones(p*m) * scale_factor\n",
    "    # C = 0.1*I(p*m) * scale_factor\n",
    "    # C_plus = zeros(p*m, p*m) *scale_factor\n",
    "    b = zeros(p*m)\n",
    "    b_plus = 0.1*ones(p*m)\n",
    "    C = 0.1*I(p*m)\n",
    "    C_plus = zeros(p*m, p*m)\n",
    "\n",
    "    # λ *= scale_factor\n",
    "    # ρ *= scale_factor\n",
    "    # ϵ *= scale_factor\n",
    "\n",
    "    ψ_vals = Float64[]\n",
    "    # x_init = Vector{Float64}\n",
    "    # x = Vector{Float64}\n",
    "\n",
    "    # create parameters block and solve for x\n",
    "    function pa_init()\n",
    "        pa_p = p\n",
    "        pa_E = E\n",
    "        pa_n, pa_m = n, m\n",
    "        pa_s = s\n",
    "        pa_b = b_plus\n",
    "        pa_C = C_plus\n",
    "        (; p=pa_p, E=pa_E, n=pa_n, m=pa_m, s=pa_s, b=pa_b, C=pa_C)\n",
    "    end\n",
    "    x_init, v = solve_entropy_routing(pa_init(), λ)\n",
    "\n",
    "    x = x_init\n",
    "    \n",
    "    println(\"Starting approx proj grad...\")\n",
    "\n",
    "    for i in 1:max_iter\n",
    "        if max(norm(b-b_plus), norm(C-C_plus)) <= ϵ || 0.5 * norm(x-x̂)^2 <= ϵ\n",
    "            break\n",
    "        else\n",
    "            # update b, C\n",
    "            b = b_plus\n",
    "            C = C_plus\n",
    "        \n",
    "            # create parameters block and solve for x\n",
    "            function pa()\n",
    "                pa_p = p\n",
    "                pa_E = E\n",
    "                pa_n, pa_m = n, m\n",
    "                pa_s = s\n",
    "                pa_b = b\n",
    "                pa_C = C\n",
    "                (; p=pa_p, E=pa_E, n=pa_n, m=pa_m, s=pa_s, b=pa_b, C=pa_C)\n",
    "            end\n",
    "            x, v = solve_entropy_routing(pa(), λ)\n",
    "            # if i == 1; x_init = x; end # store initial x\n",
    "            # if ψ_val_at_x < ϵ\n",
    "            #     break\n",
    "            # else\n",
    "            #     push!(ψ_vals, ψ_val_at_x)\n",
    "            # end\n",
    "            push!(ψ_vals, 0.5 * norm(x-x̂)^2)\n",
    "\n",
    "            # compute D, J \n",
    "            D = diagm(vec(exp.(1/λ * (kron(I(p), E')*v-b-C*x) - ones(p*m, 1)))) # dim: 18x18\n",
    "            J = [I(p*m)+1/λ*D*C 1/λ*D*kron(I(p), E'); kron(-I(p), E) zeros(p*n, p*n)] # dim: 27x27\n",
    "\n",
    "            # compute ∇ψ_x\n",
    "            ∇ψ_x = x - x̂ # 18x1\n",
    "\n",
    "            # compute ∇̂ψ_b, ∇̂ψ_C\n",
    "            # ∇̂ψ_b = - 1/λ * [D' zeros(p*m, p*n)] * pinv(J)' * [∇ψ_x; zeros(p*n)]\n",
    "            ∇̂ψ_C = - 1/λ * [D' zeros(p*m, p*n)] * pinv(J)' * [∇ψ_x; zeros(p*n)] * x' # 18x1\n",
    "\n",
    "            # update b_plus, C_plus\n",
    "            # b_plus = proj_B(b - α * ∇̂ψ_b, 0.1)\n",
    "            C_plus = proj_D(C - α * ∇̂ψ_C, ρ)\n",
    "        end\n",
    "    end\n",
    "    println(\"Finished.\")\n",
    "\n",
    "    (;x = x,\n",
    "      x_init = x_init,\n",
    "    #   b = b / scale_factor,\n",
    "    #   C = C / scale_factor,\n",
    "      b = b,\n",
    "      C = C,\n",
    "      ψ_vals = ψ_vals)\n",
    "\n",
    "end"
   ]
  },
  {
   "cell_type": "markdown",
   "id": "02005243-38e9-4f9d-b994-815db67134f3",
   "metadata": {},
   "source": [
    "## RUNNING"
   ]
  },
  {
   "cell_type": "markdown",
   "id": "788580ce",
   "metadata": {},
   "source": [
    "### routing games"
   ]
  },
  {
   "cell_type": "code",
   "execution_count": 25,
   "id": "e5e86efd-7f6c-4bf2-9a1f-b46112e842ea",
   "metadata": {},
   "outputs": [
    {
     "data": {
      "text/plain": [
       "grid_graph5 (generic function with 1 method)"
      ]
     },
     "metadata": {},
     "output_type": "display_data"
    }
   ],
   "source": [
    "# routing games\n",
    "function grid_graph3()\n",
    "    game_name = \"grid_graph3\"\n",
    "\n",
    "    row_num = 3\n",
    "    col_num = 3\n",
    "    g = SimpleDiGraph(row_num * col_num)\n",
    "    for i in 1:row_num\n",
    "        for j in 1:col_num-1\n",
    "        add_edge!(g, row_num*(i-1)+j, row_num*(i-1)+j+1)\n",
    "        add_edge!(g, row_num*(i-1)+j+1, row_num*(i-1)+j)\n",
    "        end\n",
    "    end\n",
    "    for j in 1:col_num\n",
    "        for i in 1:row_num-1\n",
    "            add_edge!(g, row_num*(i-1)+j, row_num*(i-1)+j+row_num)\n",
    "            add_edge!(g, row_num*(i-1)+j+row_num, row_num*(i-1)+j)\n",
    "        end\n",
    "    end\n",
    "\n",
    "    p = 4\n",
    "    E = -Matrix(incidence_matrix(g))\n",
    "\n",
    "    s_p1 = zeros(9); s_p1[4] = 1; s_p1[6] = -1;\n",
    "    s_p2 = -s_p1\n",
    "    s_p3 = zeros(9); s_p3[2] = 1; s_p3[8] = -1;\n",
    "    s_p4 = -s_p3\n",
    "    s = [s_p1; s_p2; s_p3; s_p4]\n",
    "\n",
    "    p1 = zeros(24); p1[8] = p1[1] = p1[4] = p1[7] = 1;\n",
    "    p2 = zeros(24); p2[17] = p2[24] = p2[21] = p2[18] = 1;\n",
    "    p3 = zeros(24); p3[4] = p3[7] = p3[17] = p3[24] = 1;\n",
    "    p4 = zeros(24); p4[21] = p4[18] = p4[8] = p4[1] = 1;\n",
    "    x̂ = vec([p1; p2; p3; p4]) # dim: 24*4 x 1\n",
    "\n",
    "    # plot_unlabeled(game_name, g, row_num)\n",
    "    (;game_name=game_name, g=g, p=p, E=E, s=s, x̂=x̂)\n",
    "end\n",
    "\n",
    "function grid_graph5()\n",
    "    game_name = \"grid_graph5\"\n",
    "\n",
    "    row_num = 5\n",
    "    col_num = 5\n",
    "    g = SimpleDiGraph(row_num * col_num)\n",
    "    for i in 1:row_num\n",
    "        for j in 1:col_num-1\n",
    "        add_edge!(g, 5*(i-1)+j, 5*(i-1)+j+1)\n",
    "        add_edge!(g, 5*(i-1)+j+1, 5*(i-1)+j)\n",
    "        end\n",
    "    end\n",
    "    for j in 1:col_num\n",
    "        for i in 1:row_num-1\n",
    "            add_edge!(g, 5*(i-1)+j, 5*(i-1)+j+5)\n",
    "            add_edge!(g, 5*(i-1)+j+5, 5*(i-1)+j)\n",
    "        end\n",
    "    end\n",
    "\n",
    "    p = 2\n",
    "    E = -Matrix(incidence_matrix(g))\n",
    "\n",
    "    s_p1 = zeros(25); s_p1[11] = 1; s_p1[15] = -1;\n",
    "    s_p2 = -s_p1\n",
    "    # s_p3 = zeros(25); s_p3[3] = 1; s_p3[23] = -1;\n",
    "    # s_p4 = -s_p3\n",
    "    s = [s_p1; s_p2]\n",
    "    # s = [s_p1; s_p2; s_p3; s_p4]\n",
    "\n",
    "    p1 = zeros(80); p1[32] = p1[15] = p1[19] = p1[23] = p1[27] = p1[31] = 1;\n",
    "    p2 = zeros(80); p2[49] = p2[66] = p2[62] = p2[58] = p2[54] = p2[50] = 1;\n",
    "    # p3 = zeros(80); p3[7] = p3[11] = p3[28] = p3[46] = p3[64] = p3[77] = 1;\n",
    "    # p4 = zeros(80); p4[74] = p4[70] = p4[53] = p4[35] = p4[17] = p4[4] = 1;\n",
    "    x̂ = vec([p1; p2]) # dim: 24*2 x 1\n",
    "    # x̂ = vec([p1; p2; p3; p4]) # dim: 24*4 x 1\n",
    "\n",
    "    # plot_unlabeled(game_name, g)\n",
    "    (;game_name=game_name, g=g, p=p, E=E, s=s, x̂=x̂)\n",
    "end"
   ]
  },
  {
   "cell_type": "markdown",
   "id": "a497149a",
   "metadata": {},
   "source": [
    "### instantiate"
   ]
  },
  {
   "cell_type": "code",
   "execution_count": 26,
   "id": "b42281fb-394f-45e2-8776-6560bd246787",
   "metadata": {},
   "outputs": [
    {
     "data": {
      "text/plain": [
       "1"
      ]
     },
     "metadata": {},
     "output_type": "display_data"
    }
   ],
   "source": [
    "# instantiate a routing game (p, E, s) with desired Nash sol x̂\n",
    "game_name, g, p, E, s, x̂ = grid_graph5()\n",
    "\n",
    "# assign parameters\n",
    "λ = 0.01\n",
    "α = 0.01\n",
    "ϵ = 0.1\n",
    "ρ = 0.05\n",
    "max_iter = 100\n",
    "scale_factor = 1"
   ]
  },
  {
   "cell_type": "markdown",
   "id": "58da7cc1",
   "metadata": {},
   "source": [
    "### running and saving result"
   ]
  },
  {
   "cell_type": "code",
   "execution_count": 27,
   "id": "57aa0248-3847-466a-bba3-ad9c7625b957",
   "metadata": {},
   "outputs": [
    {
     "data": {
      "text/plain": [
       "call_and_save (generic function with 1 method)"
      ]
     },
     "metadata": {},
     "output_type": "display_data"
    }
   ],
   "source": [
    "function call_and_save(ρ)\n",
    "    # calling method\n",
    "    println(\"----------- $(game_name)_λ=($λ)_α=($α)_ϵ=($ϵ)_ρ=($ρ) -----------\")\n",
    "    x, x_init, b, C, ψ_vals = approx_proj_grad(p, E, s, x̂, λ, α, ϵ, ρ, max_iter, scale_factor)\n",
    "\n",
    "\n",
    "    \"\"\" SAVING RESULT \"\"\"\n",
    "    # create an individual folder under results/\n",
    "    dir = \"results/$(game_name)/$(game_name)_λ=($λ)_α=($α)_ϵ=($ϵ)_ρ=($ρ)\"; mkpath(dir) # mkdir if not exists\n",
    "    println(\"saving plot and output to '$dir'\")\n",
    "\n",
    "    # plot and save\n",
    "    plot(ψ_vals, xlabel=\"iter\", ylabel=\"ψ(x)\"); savefig(\"$dir/ψ_vals_plots_λ=($λ)_α=($α)_ϵ=($ϵ)_ρ=($ρ).png\")\n",
    "    @show ψ_vals[end]\n",
    "\n",
    "    # save outputs\n",
    "    @save \"$dir/output.jld2\" x x_init b C ψ_vals\n",
    "    open(\"$dir/output.jl\", \"w\") do output_file\n",
    "        write(output_file, \"# ------------ λ=($λ)_α=($α)_ϵ=($ϵ)_ρ=($ρ) ------------ \\n \\n\")\n",
    "        \n",
    "        write(output_file, \"x = \") # writes x =\n",
    "        show(output_file, x) # writes the content of x\n",
    "        write(output_file, \"; \\n \\n\")\n",
    "        \n",
    "        write(output_file, \"x_init = \")\n",
    "        show(output_file, x_init) \n",
    "        write(output_file, \"; \\n \\n\")\n",
    "\n",
    "        write(output_file, \"b = \")\n",
    "        show(output_file, b) \n",
    "        write(output_file, \"; \\n \\n\")\n",
    "\n",
    "        write(output_file, \"C = \")\n",
    "        show(output_file, C) \n",
    "        write(output_file, \"; \\n \\n\")\n",
    "\n",
    "        write(output_file, \"ψ_val[end] = \")\n",
    "        show(output_file, ψ_vals[end]) \n",
    "        write(output_file, \"; \\n \\n\")\n",
    "    end\n",
    "    println(\"--------------------------------\")\n",
    "end"
   ]
  },
  {
   "cell_type": "code",
   "execution_count": 28,
   "id": "e9a75d88",
   "metadata": {},
   "outputs": [
    {
     "name": "stdout",
     "output_type": "stream",
     "text": [
      "----------- grid_graph5_λ=(0.01)_α=(0.01)_ϵ=(0.1)_ρ=(10) -----------\n",
      "calling solve_entropy_routing...\n",
      "Starting approx proj grad...\n",
      "calling solve_entropy_routing...\n",
      "calling solve_entropy_routing...\n",
      "calling solve_entropy_routing...\n",
      "calling solve_entropy_routing...\n"
     ]
    },
    {
     "ename": "LAPACKException",
     "evalue": "LAPACKException(12)",
     "output_type": "error",
     "traceback": [
      "LAPACKException(12)\n",
      "\n",
      "Stacktrace:\n",
      "  [1] chklapackerror(ret::Int64)\n",
      "    @ LinearAlgebra.LAPACK /Applications/Julia-1.7.app/Contents/Resources/julia/share/julia/stdlib/v1.7/LinearAlgebra/src/lapack.jl:43\n",
      "  [2] gesdd!(job::Char, A::Matrix{Float64})\n",
      "    @ LinearAlgebra.LAPACK /Applications/Julia-1.7.app/Contents/Resources/julia/share/julia/stdlib/v1.7/LinearAlgebra/src/lapack.jl:1675\n",
      "  [3] _svd!\n",
      "    @ /Applications/Julia-1.7.app/Contents/Resources/julia/share/julia/stdlib/v1.7/LinearAlgebra/src/svd.jl:122 [inlined]\n",
      "  [4] svd!(A::Matrix{Float64}; full::Bool, alg::LinearAlgebra.DivideAndConquer)\n",
      "    @ LinearAlgebra /Applications/Julia-1.7.app/Contents/Resources/julia/share/julia/stdlib/v1.7/LinearAlgebra/src/svd.jl:102\n",
      "  [5] #svd#101\n",
      "    @ /Applications/Julia-1.7.app/Contents/Resources/julia/share/julia/stdlib/v1.7/LinearAlgebra/src/svd.jl:176 [inlined]\n",
      "  [6] svd\n",
      "    @ /Applications/Julia-1.7.app/Contents/Resources/julia/share/julia/stdlib/v1.7/LinearAlgebra/src/svd.jl:176 [inlined]\n",
      "  [7] pinv(A::Matrix{Float64}; atol::Float64, rtol::Float64)\n",
      "    @ LinearAlgebra /Applications/Julia-1.7.app/Contents/Resources/julia/share/julia/stdlib/v1.7/LinearAlgebra/src/dense.jl:1442\n",
      "  [8] pinv(A::Matrix{Float64})\n",
      "    @ LinearAlgebra /Applications/Julia-1.7.app/Contents/Resources/julia/share/julia/stdlib/v1.7/LinearAlgebra/src/dense.jl:1428\n",
      "  [9] approx_proj_grad(p::Int64, E::Matrix{Int64}, s::Vector{Float64}, x̂::Vector{Float64}, λ::Float64, α::Float64, ϵ::Float64, ρ::Int64, max_iter::Int64, scale_factor::Int64)\n",
      "    @ Main ~/Desktop/workspace/inverse_routing/inverse_routing.ipynb:93\n",
      " [10] call_and_save(ρ::Int64)\n",
      "    @ Main ~/Desktop/workspace/inverse_routing/inverse_routing.ipynb:4\n",
      " [11] top-level scope\n",
      "    @ ~/Desktop/workspace/inverse_routing/inverse_routing.ipynb:3"
     ]
    }
   ],
   "source": [
    "rho_list = [0.01, 0.05, 0.1, 0.5, 1, 5]\n",
    "for ρ in rho_list\n",
    "    call_and_save(ρ)\n",
    "end"
   ]
  },
  {
   "cell_type": "markdown",
   "id": "4554bb51",
   "metadata": {},
   "source": [
    "## PLOTTING RHO GRAPH"
   ]
  },
  {
   "cell_type": "code",
   "execution_count": 29,
   "id": "ba2b0673",
   "metadata": {},
   "outputs": [
    {
     "name": "stderr",
     "output_type": "stream",
     "text": [
      "┌ Warning: Opening file with JLD2.MmapIO failed, falling back to IOStream\n",
      "└ @ JLD2 /Users/vivianchen/.julia/packages/JLD2/k9Gt0/src/JLD2.jl:233\n"
     ]
    },
    {
     "ename": "SystemError",
     "evalue": "SystemError: opening file \"results/grid_graph5/grid_graph5_λ=(0.01)_α=(0.01)_ϵ=(0.01)_ρ=(0.01)/output.jld2\": No such file or directory",
     "output_type": "error",
     "traceback": [
      "SystemError: opening file \"results/grid_graph5/grid_graph5_λ=(0.01)_α=(0.01)_ϵ=(0.01)_ρ=(0.01)/output.jld2\": No such file or directory\n",
      "\n",
      "Stacktrace:\n",
      "  [1] systemerror(p::String, errno::Int32; extrainfo::Nothing)\n",
      "    @ Base ./error.jl:174\n",
      "  [2] #systemerror#68\n",
      "    @ ./error.jl:173 [inlined]\n",
      "  [3] systemerror\n",
      "    @ ./error.jl:173 [inlined]\n",
      "  [4] open(fname::String; lock::Bool, read::Bool, write::Bool, create::Bool, truncate::Bool, append::Bool)\n",
      "    @ Base ./iostream.jl:293\n",
      "  [5] openfile\n",
      "    @ ~/.julia/packages/JLD2/k9Gt0/src/JLD2.jl:223 [inlined]\n",
      "  [6] openfile(T::Type, fname::String, wr::Bool, create::Bool, truncate::Bool, fallback::Type)\n",
      "    @ JLD2 ~/.julia/packages/JLD2/k9Gt0/src/JLD2.jl:234\n",
      "  [7] jldopen(fname::String, wr::Bool, create::Bool, truncate::Bool, iotype::Type{JLD2.MmapIO}; fallback::Type{IOStream}, compress::Bool, mmaparrays::Bool, typemap::Dict{String, Any})\n",
      "    @ JLD2 ~/.julia/packages/JLD2/k9Gt0/src/JLD2.jl:290\n",
      "  [8] jldopen(fname::String, wr::Bool, create::Bool, truncate::Bool, iotype::Type{JLD2.MmapIO})\n",
      "    @ JLD2 ~/.julia/packages/JLD2/k9Gt0/src/JLD2.jl:253\n",
      "  [9] jldopen(fname::String, mode::String; iotype::Type, kwargs::Base.Pairs{Symbol, Union{}, Tuple{}, NamedTuple{(), Tuple{}}})\n",
      "    @ JLD2 ~/.julia/packages/JLD2/k9Gt0/src/JLD2.jl:356\n",
      " [10] jldopen (repeats 2 times)\n",
      "    @ ~/.julia/packages/JLD2/k9Gt0/src/JLD2.jl:351 [inlined]\n",
      " [11] jldopen(f::Function, args::String; kws::Base.Pairs{Symbol, Union{}, Tuple{}, NamedTuple{(), Tuple{}}})\n",
      "    @ JLD2 ~/.julia/packages/JLD2/k9Gt0/src/loadsave.jl:2\n",
      " [12] jldopen(f::Function, args::String)\n",
      "    @ JLD2 ~/.julia/packages/JLD2/k9Gt0/src/loadsave.jl:2\n",
      " [13] macro expansion\n",
      "    @ ~/.julia/packages/JLD2/k9Gt0/src/loadsave.jl:145 [inlined]\n",
      " [14] top-level scope\n",
      "    @ ~/Desktop/workspace/inverse_routing/inverse_routing.ipynb:4"
     ]
    }
   ],
   "source": [
    "# collect psi_end_list\n",
    "psi_end_list = Float64[]\n",
    "for ρ in rho_list\n",
    "    @load \"results/$(game_name)/$(game_name)_λ=(0.01)_α=(0.01)_ϵ=(0.01)_ρ=($ρ)/output.jld2\" ψ_vals\n",
    "    println(\"ρ=$ρ\", \"   \", \"ψ_vals[end]=$(ψ_vals[end])\")\n",
    "    push!(psi_end_list, ψ_vals[end])\n",
    "end\n",
    "\n",
    "# plot and save rho graph in results/\n",
    "println(\"saving rho paramter search plot in 'results/$(game_name)_rho_parameter_search.png'\")\n",
    "plot(rho_list, psi_end_list, xlabel=\"ρ\", ylabel=\"ψ(x) convergence value\")\n",
    "savefig(\"results/$(game_name)/$(game_name)_rho_parameter_search.png\")"
   ]
  }
 ],
 "metadata": {
  "kernelspec": {
   "display_name": "Julia 1.7.2",
   "language": "julia",
   "name": "julia-1.7"
  },
  "language_info": {
   "file_extension": ".jl",
   "mimetype": "application/julia",
   "name": "julia",
   "version": "1.7.2"
  }
 },
 "nbformat": 4,
 "nbformat_minor": 5
}
