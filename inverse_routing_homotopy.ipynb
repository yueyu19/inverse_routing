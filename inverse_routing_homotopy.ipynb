{
 "cells": [
  {
   "cell_type": "markdown",
   "id": "8eaad1e9",
   "metadata": {},
   "source": [
    "#### ROUTING GAME LIBRARY"
   ]
  },
  {
   "cell_type": "code",
   "execution_count": 12,
   "id": "11c08082",
   "metadata": {},
   "outputs": [
    {
     "data": {
      "text/plain": [
       "plot_labeled (generic function with 1 method)"
      ]
     },
     "metadata": {},
     "output_type": "display_data"
    }
   ],
   "source": [
    "using Revise, JLD2\n",
    "include(\"routing_games.jl\")"
   ]
  },
  {
   "cell_type": "markdown",
   "id": "b6fd12bd-fdca-4048-a698-15c66b64f794",
   "metadata": {
    "tags": []
   },
   "source": [
    "#### FORWARD SOLVER: game(p,E,s, b, C) ==> (x, v)"
   ]
  },
  {
   "cell_type": "code",
   "execution_count": 6,
   "id": "6f853d2e-d7d0-40f1-9f06-b9e51cf825d3",
   "metadata": {},
   "outputs": [
    {
     "data": {
      "text/plain": [
       "solve_routing (generic function with 1 method)"
      ]
     },
     "metadata": {},
     "output_type": "display_data"
    }
   ],
   "source": [
    "# include(\"routing_solvers/routing_solver_entropy_jump.jl\")\n",
    "include(\"routing_solvers/routing_solver_entropy_nlsolve.jl\")\n",
    "include(\"routing_solvers/routing_solver_exact_jump.jl\")"
   ]
  },
  {
   "cell_type": "markdown",
   "id": "aecb9da5",
   "metadata": {},
   "source": [
    "##### test forward solvers"
   ]
  },
  {
   "cell_type": "code",
   "execution_count": null,
   "id": "0ecd57e2",
   "metadata": {},
   "outputs": [],
   "source": [
    "pa = grid_graph3_4_players_reduced()\n",
    "b = 0.1*ones(pa.p*pa.m)\n",
    "C = zeros(pa.p*pa.m, pa.p*pa.m)\n",
    "x_init = rand(pa.p*pa.m)\n",
    "v_init = zeros(pa.p*(pa.n-1))\n",
    "\n",
    "x, v = solve_entropy_routing_jump(pa, b, C, 0.01, x_init, v_init)\n",
    "x, v = solve_entropy_routing_nlsolve(pa, b, C, 0.01, x_init, v_init)\n",
    "x, v = solve_routing(pa, b, C, x_init, v_init)"
   ]
  },
  {
   "cell_type": "markdown",
   "id": "d4614d1a-9e58-470f-9994-335da303a78b",
   "metadata": {},
   "source": [
    "#### BACKWARD SOLVER: (p,E,s, x_hat) ==> (b, C)"
   ]
  },
  {
   "cell_type": "code",
   "execution_count": 10,
   "id": "99c1c5d4",
   "metadata": {},
   "outputs": [
    {
     "data": {
      "text/plain": [
       "approx_proj_grad"
      ]
     },
     "metadata": {},
     "output_type": "display_data"
    }
   ],
   "source": [
    "include(\"approx_proj_gradient.jl\")"
   ]
  },
  {
   "cell_type": "markdown",
   "id": "ea7f0928",
   "metadata": {},
   "source": [
    "##### test backward solver"
   ]
  },
  {
   "cell_type": "code",
   "execution_count": null,
   "id": "3661e17c",
   "metadata": {},
   "outputs": [],
   "source": [
    "using ArgParse\n",
    "using JLD2\n",
    "using Plots, GraphPlot, ColorSchemes\n",
    "\n",
    "# parse cmd args\n",
    "function parse_commandline()\n",
    "    s = ArgParseSettings()\n",
    "\n",
    "    @add_arg_table s begin\n",
    "        \"--rho\"\n",
    "            help = \"rho\"\n",
    "            arg_type = Float64\n",
    "            default = 0.5\n",
    "        \"--lambda\"\n",
    "            help = \"entropy reg term\"\n",
    "            arg_type = Float64\n",
    "            default = 0.01\n",
    "        \"--alpha\"\n",
    "            help = \"GD step size\"\n",
    "            arg_type = Float64\n",
    "            default = 0.005\n",
    "        \"--epsilon\"\n",
    "            help = \"convergence threshold\"\n",
    "            arg_type = Float64\n",
    "            default = 1e-3\n",
    "        \"--max_iter\"\n",
    "            help = \"maximum iter allowed\"\n",
    "            arg_type = Int64\n",
    "            default = 10\n",
    "        \"--plot\"\n",
    "            help = \"plot exp result or not\"\n",
    "            arg_type = Bool\n",
    "            default = true\n",
    "        \"--forward_solver\"\n",
    "            help = \"nlsolve or ipopt\"\n",
    "            arg_type = String\n",
    "            default = \"nlsolve\"\n",
    "    end\n",
    "\n",
    "    return parse_args(s)\n",
    "end\n",
    "args = parse_commandline()"
   ]
  },
  {
   "cell_type": "code",
   "execution_count": null,
   "id": "7a8817f7",
   "metadata": {},
   "outputs": [],
   "source": [
    "pa = grid_graph3_4_players_reduced()\n",
    "\n",
    "x = zeros(pa.p*pa.m)\n",
    "v = zeros(pa.p*(pa.n-1))\n",
    "b = 0.1*ones(pa.p*pa.m)\n",
    "C = zeros(pa.p*pa.m, pa.p*pa.m)\n",
    "\n",
    "# assign parameters\n",
    "λ = 0.01\n",
    "α = 0.005\n",
    "ϵ = 1e-3\n",
    "ρ = 0.5\n",
    "max_iter = 10\n",
    "\n",
    "println(\"----------- $(pa.game_name)_λ=($λ)_α=($α)_ϵ=($ϵ)_ρ=($ρ) -----------\")\n",
    "x, v, b, C, lambda_vals, ψ_vals_exact = approx_proj_grad(pa, λ, α, ϵ, ρ, max_iter, x, v, b, C)"
   ]
  },
  {
   "cell_type": "markdown",
   "id": "d338b15a",
   "metadata": {},
   "source": [
    "#### Rho choice experiment"
   ]
  },
  {
   "cell_type": "code",
   "execution_count": 20,
   "id": "ed0bde8f",
   "metadata": {},
   "outputs": [
    {
     "data": {
      "text/plain": [
       "approx_proj_grad (generic function with 1 method)"
      ]
     },
     "metadata": {},
     "output_type": "display_data"
    }
   ],
   "source": [
    "using Plots, GraphPlot, Colors\n",
    "using Graphs, GraphRecipes\n",
    "using ArgParse\n",
    "using JLD2\n",
    "using IterativeSolvers\n",
    "\n",
    "# helper function: projection onto B\n",
    "function proj_B(b)\n",
    "    return min.(0.1, max.(0, b))\n",
    "end\n",
    "\n",
    "# helper function: projection onto D\n",
    "function proj_D(C, ρ, pa)\n",
    "    C1 = 0.5 * (C - C')\n",
    "    for n in 1:pa.p\n",
    "        C1[pa.m*(n-1)+1:pa.m*n, pa.m*(n-1)+1:pa.m*n] = zeros(pa.m, pa.m)\n",
    "    end\n",
    "    \n",
    "    C2 = 0.5 * (C + C')\n",
    "    s = eigvals(C2)\n",
    "    U = eigvecs(C2)\n",
    "    \n",
    "    A = real(C1 + U * diagm(vec(max.(s,zeros(length(s))))) * U')\n",
    "    return ρ / max.(ρ, norm(A)) * A\n",
    "end\n",
    "\n",
    "\"\"\"\n",
    "Approximate projected gradient method (measuring function ψ(x)=1/2*||x-x̂||^2)\n",
    "Inputs:\n",
    "- p, number of players\n",
    "- E, incidence matrix\n",
    "- s, source-sink vector\n",
    "- x̂, desired Nash solution\n",
    "- λ, entropy weight\n",
    "- α, step size\n",
    "- ϵ, stopping tolerance\n",
    "- ρ, modification allowance\n",
    "- max_iter\n",
    "\n",
    "Returns:\n",
    "- x: mixed eq strategies for each player on space of links\n",
    "- b\n",
    "- C\n",
    "\"\"\"\n",
    "\n",
    "function approx_proj_grad(pa, λ, α, ϵ, ρ, max_iter, x_init, v_init, b_init, C_init)\n",
    "   \n",
    "    # initiate b, b_plus, C, C_plus\n",
    "    b = zeros(pa.p*pa.m)\n",
    "    b_plus = b_init\n",
    "    C = 0.1*I(pa.p*pa.m)\n",
    "    C_plus = C_init\n",
    "\n",
    "    # initiate x, v, x_exact, v_exact\n",
    "    x = x_init\n",
    "    v = v_init\n",
    "\n",
    "    # data output placeholders\n",
    "    lambda_vals = Float64[]\n",
    "    ψ_vals = Float64[]\n",
    "\n",
    "    for i in 1:max_iter\n",
    "        if max(norm(b-b_plus), norm(C-C_plus)) <= ϵ || 0.5 * norm(x-pa.x̂)^2 <= ϵ\n",
    "        # if max(norm(b-b_plus), norm(C-C_plus)) <= ϵ\n",
    "        # if 0.5 * norm(x-x̂)^2 <= ϵ\n",
    "            println(\"Converged.\")\n",
    "            break\n",
    "        elseif i == max_iter\n",
    "            println(\"Reached max_iter of $max_iter, break.\")\n",
    "            break\n",
    "        else\n",
    "            println(\"\\t\\t### ITER $i ###\\n\")\n",
    "            \n",
    "            # update b, C\n",
    "            println(\"\\t\\t\\tupdate b, C...\")\n",
    "            b = b_plus\n",
    "            C = C_plus\n",
    "\n",
    "            println(\"\\t\\t\\t*** Compute (b, C) => (x, v) => ψ(x) for iter $i ***\")\n",
    "            x, v = solve_entropy_routing_nlsolve(pa, b, C, λ, x, v)\n",
    "            push!(ψ_vals, 0.5 * norm(x-pa.x̂)^2)\n",
    "\n",
    "            # record current λ value\n",
    "            push!(lambda_vals, λ)\n",
    "            \n",
    "            # compute D, J \n",
    "            println(\"\\t\\t\\tcompute D, J...\")\n",
    "            D = diagm(vec(exp.(1/λ * (pa.E_diag'*v-b-C*x) - ones(pa.p*pa.m, 1)))) # dim: 18x18\n",
    "            J = [I(pa.p*pa.m)+1/λ*D*C     1/λ*D*pa.E_diag'; -pa.E_diag      zeros(pa.p*(pa.n-1), pa.p*(pa.n-1))] # dim: 27x27\n",
    "\n",
    "            # compute ∇ψ_x\n",
    "            println(\"\\t\\t\\tcompute ∇ψ_x...\")\n",
    "            ∇ψ_x = x - pa.x̂ # 18x1\n",
    "\n",
    "            # compute ∇̂ψ_b, ∇̂ψ_C\n",
    "            println(\"\\t\\t\\tcompute ∇̂ψ_b, ∇ψ_C...\")\n",
    "            ∇̂ψ_b = - 1/λ * [D' zeros(pa.p*pa.m, pa.p*(pa.n-1))] * pinv(J)' * [∇ψ_x; zeros(pa.p*(pa.n-1))]\n",
    "            ∇̂ψ_C = - 1/λ * [D' zeros(pa.p*pa.m, pa.p*(pa.n-1))] * pinv(J)' * [∇ψ_x; zeros(pa.p*(pa.n-1))] * x' # 18x1\n",
    "\n",
    "            # update b_plus, C_plus\n",
    "            println(\"\\t\\t\\tcompute b_plus, C_plus...\\n\")\n",
    "            b_plus = proj_B(b - α * ∇̂ψ_b)\n",
    "            C_plus = proj_D(C - α * ∇̂ψ_C, ρ, pa)\n",
    "\n",
    "        end\n",
    "    end\n",
    "\n",
    "    (;x = x,\n",
    "      v = v,\n",
    "      b = b,\n",
    "      C = C,\n",
    "      ψ_vals = ψ_vals,\n",
    "      lambda_vals = lambda_vals\n",
    ")\n",
    "\n",
    "end"
   ]
  },
  {
   "cell_type": "code",
   "execution_count": 25,
   "id": "53d5f32d",
   "metadata": {},
   "outputs": [
    {
     "name": "stdout",
     "output_type": "stream",
     "text": [
      "----------- grid_graph3_2_players_reduced_λ=(0.01)_α=(0.01)_ϵ=(0.01)_ρ=(0.1) -----------\n",
      "\t\t### ITER 1 ###\n",
      "\n",
      "\t\t\tupdate b, C...\n",
      "\t\t\t*** Compute (b, C) => (x, v) => ψ(x) for iter 1 ***\n",
      "\t\t\t--- entropy routing solver (NLsolve) ---\n",
      "\t\t\tcompute D, J...\n",
      "\t\t\tcompute ∇ψ_x...\n",
      "\t\t\tcompute ∇̂ψ_b, ∇ψ_C...\n",
      "\t\t\tcompute b_plus, C_plus...\n",
      "\n",
      "\t\t### ITER 2 ###\n",
      "\n",
      "\t\t\tupdate b, C...\n",
      "\t\t\t*** Compute (b, C) => (x, v) => ψ(x) for iter 2 ***\n",
      "\t\t\t--- entropy routing solver (NLsolve) ---\n",
      "\t\t\tcompute D, J...\n",
      "\t\t\tcompute ∇ψ_x...\n",
      "\t\t\tcompute ∇̂ψ_b, ∇ψ_C...\n",
      "\t\t\tcompute b_plus, C_plus...\n",
      "\n",
      "\t\t### ITER 3 ###\n",
      "\n",
      "\t\t\tupdate b, C...\n",
      "\t\t\t*** Compute (b, C) => (x, v) => ψ(x) for iter 3 ***\n",
      "\t\t\t--- entropy routing solver (NLsolve) ---\n",
      "\t\t\tcompute D, J...\n",
      "\t\t\tcompute ∇ψ_x...\n",
      "\t\t\tcompute ∇̂ψ_b, ∇ψ_C...\n",
      "\t\t\tcompute b_plus, C_plus...\n",
      "\n",
      "Converged.\n",
      "saving output to 'rho_exp/results/grid_graph3_2_players_reduced/grid_graph3_2_players_reduced_λ=(0.01)_α=(0.01)_ϵ=(0.01)_ρ=(0.1)'\n",
      "ψ_vals = [0.01, 0.01, 0.01]\n"
     ]
    },
    {
     "data": {
      "text/plain": [
       "3-element Vector{Float64}:\n",
       " 0.01\n",
       " 0.01\n",
       " 0.01"
      ]
     },
     "metadata": {},
     "output_type": "display_data"
    }
   ],
   "source": [
    "pa = grid_graph3_2_players_reduced()\n",
    "\n",
    "x = zeros(pa.p*pa.m)\n",
    "v = zeros(pa.p*(pa.n-1))\n",
    "b = 0.1*ones(pa.p*pa.m)\n",
    "C = zeros(pa.p*pa.m, pa.p*pa.m)\n",
    "\n",
    "# assign parameters\n",
    "λ = 0.01\n",
    "α = 0.01\n",
    "ϵ = 0.01\n",
    "ρ = 0.1\n",
    "max_iter = 10\n",
    "\n",
    "# calling method\n",
    "println(\"----------- $(pa.game_name)_λ=($λ)_α=($α)_ϵ=($ϵ)_ρ=($ρ) -----------\")\n",
    "x, v, b, C, lambda_vals, ψ_vals = approx_proj_grad(pa, λ, α, ϵ, ρ, max_iter, x, v, b, C)\n",
    "\n",
    "\"\"\" SAVING RESULT \"\"\"\n",
    "dir = \"rho_exp/results/$(pa.game_name)/$(pa.game_name)_λ=($λ)_α=($α)_ϵ=($ϵ)_ρ=($ρ)\"; mkpath(dir) # mkdir if not exists\n",
    "println(\"saving output to '$dir'\")\n",
    "@save \"$dir/output.jld2\" x v b C lambda_vals ψ_vals\n",
    "\n",
    "plot(ψ_vals, xlabel=\"iter\", ylabel=\"ψ(x)\"); savefig(\"$dir/ψ_vals_plots_λ=($λ)_α=($α)_ϵ=($ϵ)_ρ=($ρ).png\")\n",
    "@show ψ_vals"
   ]
  },
  {
   "cell_type": "markdown",
   "id": "02005243-38e9-4f9d-b994-815db67134f3",
   "metadata": {},
   "source": [
    "#### Homotopy Experiment"
   ]
  },
  {
   "cell_type": "code",
   "execution_count": null,
   "id": "5ba12d26",
   "metadata": {},
   "outputs": [],
   "source": [
    "function homotopy_exp_parameter_choice(pa, α, ϵ, ρ, max_iter, λ_list)\n",
    "\n",
    "    # output placeholder\n",
    "    x = zeros(pa.p*pa.m)\n",
    "    v = zeros(pa.p*(pa.n-1))\n",
    "    b = 0.1*ones(pa.p*pa.m)\n",
    "    C = zeros(pa.p*pa.m, pa.p*pa.m)\n",
    "    lambda_vals_list = Vector{Float64}[]\n",
    "    ψ_vals_exact_list = Float64[]\n",
    "    ψ_x_exact = Inf\n",
    "\n",
    "    # run experiment\n",
    "    println(\"----------- $(pa.game_name)_ρ=($ρ)_λ_list=($λ_list)_α=($α)_ϵ=($ϵ) -----------\\n\")\n",
    "    for λ in λ_list\n",
    "        if ψ_x_exact <= ϵ\n",
    "            println(\"\\t----- approx_proj_grad converged -----\")\n",
    "            break\n",
    "        else\n",
    "            println(\"\\t----- approx_proj_grad with {λ=$λ} -----\\n\")\n",
    "            x, v, b, C, lambda_vals, ψ_vals_exact = approx_proj_grad(pa, λ, α, ϵ, ρ, max_iter, x, v, b, C)\n",
    "            push!(lambda_vals_list, lambda_vals)\n",
    "            append!(ψ_vals_exact_list, ψ_vals_exact)\n",
    "            ψ_x_exact = ψ_vals_exact_list[end]\n",
    "        end\n",
    "    end\n",
    "    println(\"--------------------------------\\n\")\n",
    "\n",
    "     # create an individual folder under homotopy_results/\n",
    "    dir = \"homotopy_results/$(pa.game_name)\"\n",
    "    mkpath(dir) # mkdir if not exists\n",
    "\n",
    "    # save data to folder\n",
    "    println(\"saving result...\")\n",
    "    @save \"$dir/$(pa.game_name)_λ_list=($λ_list)_homotopy.jld2\" ρ λ_list α ϵ max_iter x v b C lambda_vals_list ψ_vals_exact_list\n",
    "    println(\"saved result to '$dir/$(pa.game_name)_λ_list=($λ_list)_homotopy.jld2'\")\n",
    "    println(\"--------------------------------\\n\")\n",
    "\n",
    "    (;x = x,\n",
    "      v = v,\n",
    "      b = b,\n",
    "      C = C,\n",
    "      lambda_vals_list = lambda_vals_list,\n",
    "      ψ_vals_exact_list = ψ_vals_exact_list,\n",
    "      dir = dir)\n",
    "end"
   ]
  },
  {
   "cell_type": "code",
   "execution_count": null,
   "id": "ca6bbe22",
   "metadata": {},
   "outputs": [],
   "source": [
    "\"\"\" RUNNING EXP: PARAMETER CHOICE \"\"\"\n",
    "# assign parameters\n",
    "α = args[\"alpha\"]\n",
    "ϵ = args[\"epsilon\"]\n",
    "ρ = args[\"rho\"]\n",
    "max_iter = args[\"max_iter\"]\n",
    "λ_list = [1.0, 0.5, 0.1, 0.02]\n",
    "\n",
    "# calling method\n",
    "x, v, b, C, lambda_vals_list, ψ_vals_exact_list, dir = homotopy_exp_parameter_choice(grid_graph3_4_players_reduced(), α, ϵ, ρ, max_iter, λ_list)"
   ]
  },
  {
   "cell_type": "code",
   "execution_count": null,
   "id": "67bc6aa7",
   "metadata": {},
   "outputs": [],
   "source": [
    "using IJulia\n",
    "\n",
    "pa = grid_graph3_4_players_reduced()\n",
    "\n",
    "@load \"$dir/$(pa.game_name)_λ_list=($λ_list)_homotopy.jld2\" ρ λ_list α ϵ max_iter x v b C lambda_vals_list ψ_vals_exact_list"
   ]
  },
  {
   "cell_type": "code",
   "execution_count": null,
   "id": "1aee0d7d",
   "metadata": {},
   "outputs": [],
   "source": [
    "# plot single axis (log-scaled)\n",
    "println(\"plotting homotopy...\")\n",
    "p1 = plot(title=\"ρ=($ρ), α=($α) \\n λ_list=($λ_list)\")\n",
    "lambda_vals_list_flattened = collect(Iterators.flatten(lambda_vals_list))\n",
    "lambda_colors = palette([:green, :blue], length(lambda_vals_list))\n",
    "for i in eachindex(lambda_vals_list)\n",
    "    lambda_vals = lambda_vals_list[i]\n",
    "    plot!(findall(x->x==lambda_vals[1], lambda_vals_list_flattened), lambda_vals, yscale=:log10, color = lambda_colors[i], marker=:circle, label=\"λ=$(lambda_vals[1])\", leg=:bottomleft)\n",
    "end \n",
    "plot!(ψ_vals_exact_list, yscale=:log10, c=:red, linestyle=:dash, label=\"ψ(x)_exact\", leg=:bottomleft)\n",
    "hline!([ϵ], label=\"ϵ=$ϵ\", c=:grey)\n",
    "savefig(\"$dir/$(pa.game_name)_λ_list=($λ_list)_homotopy_log.png\")\n",
    "println(\"saved to '$dir/$(pa.game_name)_λ_list=($λ_list)_homotopy_log.png'\")\n",
    "IJulia.display(p1)\n",
    "\n",
    "# plot single axis (linear-scaled)\n",
    "p2 = plot(title=\"ρ=($ρ), α=($α) \\n λ_list=($λ_list)\")\n",
    "for i in eachindex(lambda_vals_list)\n",
    "    lambda_vals = lambda_vals_list[i]\n",
    "    plot!(findall(x->x==lambda_vals[1], lambda_vals_list_flattened), lambda_vals, color = lambda_colors[i], marker=:circle, label=\"λ=$(lambda_vals[1])\", leg=:bottomleft)\n",
    "end        \n",
    "plot!(ψ_vals_exact_list, c=:red, linestyle=:dash, label=\"ψ(x)_exact\", leg=:bottomleft)\n",
    "hline!([ϵ], label=\"ϵ=$ϵ\", c=:grey)\n",
    "savefig(\"$dir/$(pa.game_name)_λ_list=($λ_list)_homotopy_linear.png\")\n",
    "println(\"saved to '$dir/$(pa.game_name)_λ_list=($λ_list)_homotopy_linear.png'\")\n",
    "println(\"--------------------------------\\n\")\n",
    "IJulia.display(p2)"
   ]
  },
  {
   "cell_type": "code",
   "execution_count": null,
   "id": "237d4ae3",
   "metadata": {},
   "outputs": [],
   "source": [
    "using JLD2\n",
    "\n",
    "# instantiate a routing game (p, E, s) with desired Nash sol x̂\n",
    "game_name, g, p, E, E_diag, s_reduced, x̂ = grid_graph3_4_players_reduced()\n",
    "\n",
    "# assign parameters\n",
    "α = 0.005\n",
    "ϵ = 1e-3\n",
    "ρ = 0.5\n",
    "max_iter = 10\n",
    "@show λ_list = [1.0/(2^i) for i in 1:8]\n",
    "\n",
    "# create an individual folder under homotopy_results/\n",
    "dir = \"homotopy_results/$(game_name)\"; mkpath(dir) # mkdir if not exists"
   ]
  },
  {
   "cell_type": "code",
   "execution_count": null,
   "id": "33b5b9df",
   "metadata": {},
   "outputs": [],
   "source": [
    "\"\"\" RUNNING EXP: PARAMETER CHOICE \"\"\"\n",
    "# calling method\n",
    "println(\"----------- $(game_name)_ρ=($ρ)_λ_list=($λ_list)_α=($α)_ϵ=($ϵ) -----------\")\n",
    "x, b, C, ψ_vals_list, violation_metrics_list, lambda_vals_list, v, ∇̂ψ_C_norm_list, D_norm_list, J_norm_list, pinv_J_norm_list, F_norm_list = homotopy_exp_parameter_choice(p, E, E_diag, s_reduced, x̂, λ_list, α, ϵ, ρ, max_iter)\n",
    "\n",
    "# save data to folder\n",
    "println(\"saving result to '$dir/$(game_name)_λ_list=($λ_list)_homotopy.jld2'\")\n",
    "@save \"$dir/$(game_name)_λ_list=($λ_list)_homotopy.jld2\" ρ λ_list α ϵ max_iter lambda_vals_list ψ_vals_list violation_metrics_list v ∇̂ψ_C_norm_list D_norm_list J_norm_list pinv_J_norm_list F_norm_list\n",
    "println(\"--------------------------------\")\n",
    "\n",
    "@show findall(x->x>=0.2, x[1:24])   # expected [9, 13]"
   ]
  },
  {
   "cell_type": "code",
   "execution_count": null,
   "id": "0c448fe8",
   "metadata": {},
   "outputs": [],
   "source": [
    "using Plots, IJulia\n",
    "mkpath(\"current_homotopy\")\n",
    "\n",
    "@load \"$dir/$(game_name)_λ_list=($λ_list)_homotopy.jld2\" ρ λ_list α ϵ max_iter lambda_vals_list ψ_vals_list violation_metrics_list v ∇̂ψ_C_norm_list D_norm_list J_norm_list pinv_J_norm_list F_norm_list\n",
    "\n",
    "# plot single axis (log-scaled)\n",
    "p1 = plot(lambda_vals_list, yscale=:log10, c=:green, label=\"λ\", leg=:bottomleft, xlabel=\"iter\", ylabel=\"log10 scaled\")\n",
    "plot!(ψ_vals_list, yscale=:log10, c=:blue, linestyle=:dash, label=\"ψ(x)\", leg=:bottomleft)\n",
    "plot!(violation_metrics_list, yscale=:log10, c=:red, linestyle=:dash, label=\"violation metric\", leg=:bottomleft)\n",
    "hline!([1e-3], label=\"1e-3\", c=:grey)\n",
    "plot!(title=\"ρ=($ρ), α=($α), ϵ=($ϵ)\")\n",
    "println(\"saving plot to '$dir/$(game_name)_λ_list=($λ_list)_homotopy.png'\")\n",
    "savefig(\"$dir/$(game_name)_λ_list=($λ_list)_homotopy.png\")\n",
    "IJulia.display(p1)\n",
    "\n",
    "# plot helper_metrics_plot\n",
    "# plot!(pinv_J_norm_list, label=\"pinv_J_norm_list\", yscale=:log10)\n",
    "p2 = plot(F_norm_list, label=\"F_norm_list\", yscale=:log10)\n",
    "# plot!(∇̂ψ_C_norm_list, label=\"∇̂ψ_C_norm_list\", yscale=:log10, leg=:bottomleft)\n",
    "# plot!(D_norm_list, label=\"D_norm_list\", yscale=:log10)\n",
    "# plot!(J_norm_list, label=\"J_norm_list\", yscale=:log10)\n",
    "hline!([1e-3], label=\"1e-3\", c=:grey)\n",
    "println(\"saving plot to '$dir/$(game_name)_λ_list=($λ_list)_helper_metrics.png'\")\n",
    "savefig(\"$dir/$(game_name)_λ_list=($λ_list)_helper_metrics.png\")\n",
    "IJulia.display(p2)"
   ]
  }
 ],
 "metadata": {
  "kernelspec": {
   "display_name": "Julia 1.7.2",
   "language": "julia",
   "name": "julia-1.7"
  },
  "language_info": {
   "file_extension": ".jl",
   "mimetype": "application/julia",
   "name": "julia",
   "version": "1.7.2"
  }
 },
 "nbformat": 4,
 "nbformat_minor": 5
}
